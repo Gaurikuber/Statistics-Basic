{
  "nbformat": 4,
  "nbformat_minor": 0,
  "metadata": {
    "colab": {
      "provenance": []
    },
    "kernelspec": {
      "name": "python3",
      "display_name": "Python 3"
    },
    "language_info": {
      "name": "python"
    }
  },
  "cells": [
    {
      "cell_type": "markdown",
      "source": [
        "1. What is statistics, and why is it important?\n",
        "-  Statistics is a branch of mathematics dealing with the collection, analysis, interpretation, presentation, and organization of data"
      ],
      "metadata": {
        "id": "TyAhD1sxO6ZZ"
      }
    },
    {
      "cell_type": "markdown",
      "source": [
        "2. What are the two main types of statistics?\n",
        "-  Descriptive Statistics:  This type of statistics involves methods for organizing, summarizing, and presenting data in a meaningful way.\n",
        "\n",
        "   Inferential Statistics:  This type of statistics involves using data from a sample to make inferences or generalizations about a larger population.Inferential statistics is about using the information you get from your small sample to make smart guesses and draw conclusions about the whole big population."
      ],
      "metadata": {
        "id": "mFjC81seTM9-"
      }
    },
    {
      "cell_type": "markdown",
      "source": [
        "3. What are descriptive statistics?\n",
        "-  Descriptive statistics are methods used to organize, summarize, and present data in a meaningful way. The goal is to describe the main features of a dataset without making inferences or generalizations about a larger population."
      ],
      "metadata": {
        "id": "jaF9THq6brWw"
      }
    },
    {
      "cell_type": "markdown",
      "source": [
        "4.  What is inferential statistics?\n",
        "-  Inferential statistics is about using data from a sample to make inferences or generalizations about a larger population.  It's the process of drawing conclusions or making predictions about a big group (population) based on information collected from a smaller part of that group (sample)."
      ],
      "metadata": {
        "id": "otBqlM1CcAEb"
      }
    },
    {
      "cell_type": "markdown",
      "source": [
        "5.  What is sampling in statistics?\n",
        "-  In statistics, sampling means selecting a group that you will actually collect data from in your research. Since it's often impossible or impractical to collect data from every single member of a large population, you choose a smaller, representative group (the sample) to study."
      ],
      "metadata": {
        "id": "Ugai-q4NcX0J"
      }
    },
    {
      "cell_type": "markdown",
      "source": [
        "6. What are the different types of sampling methods?\n",
        "-  Simple Random Sampling: Every member of the population has an equal chance of being selected.\n",
        "\n",
        "Systematic Sampling: Members are selected at regular intervals from a list of the population.\n",
        "\n",
        "Stratified Sampling: The population is divided into subgroups (strata) based on shared characteristics, and then a random sample is taken from each stratum.\n",
        "\n",
        "Cluster Sampling: The population is divided into clusters, and then entire clusters are randomly selected."
      ],
      "metadata": {
        "id": "FF-Iop-vc2Bn"
      }
    },
    {
      "cell_type": "markdown",
      "source": [
        "7.  What is the difference between random and non-random sampling?\n",
        "-  Random sampling uses chance to select the sample, aiming for representativeness and allowing for stronger generalizations.\n",
        "Non-random sampling does not use chance, relying on other criteria for selection, and is less suitable for making inferences about the entire population."
      ],
      "metadata": {
        "id": "SbyGWIfxdl_O"
      }
    },
    {
      "cell_type": "markdown",
      "source": [
        "8. Define and give examples of qualitative and quantitative data?\n",
        "-  Qualitative Data\n",
        "\n",
        "  Definition: Qualitative data is descriptive and non-numerical. It's about qualities, characteristics, or categories. It describes the attributes or properties of something.\n",
        "\n",
        "  Examples:\n",
        "\n",
        "   Colors (e.g., red, blue, green)\n",
        "\n",
        "  Types of fruits (e.g., apple, banana, orange)\n",
        "\n",
        "  Opinions or feelings (e.g., happy, sad, excited)\n",
        "\n",
        "  Textures (e.g., smooth, rough, bumpy)\n",
        "\n",
        "  Names (e.g., John, Mary, David)\n",
        "\n",
        "  Descriptions of events (e.g., \"The weather was sunny and warm.\")\n",
        "-  Quantitative Data\n",
        "\n",
        "  Definition: Quantitative data is numerical and can be measured or counted. It represents quantities or amounts.\n",
        "\n",
        " Examples:\n",
        "\n",
        " Age (e.g., 25 years old)\n",
        "\n",
        " Height (e.g., 1.75 meters)\n",
        "\n",
        " Weight (e.g., 70 kilograms)\n",
        "\n",
        " Number of students in a class (e.g., 30)\n",
        "\n",
        " Temperature (e.g., 20 degrees Celsius)\n",
        "\n",
        " Score on a test (e.g., 85)\n",
        "\n",
        " Price of an item (e.g., $10.50)"
      ],
      "metadata": {
        "id": "At_UITZ4d9-Z"
      }
    },
    {
      "cell_type": "markdown",
      "source": [
        "9. What are the different types of data in statistics?\n",
        "-  Nominal Data: This is a type of qualitative data where categories are used for labeling or classification, and there is no inherent order or ranking among the categories.\n",
        "\n",
        "Examples: Gender (male, female), marital status (single, married, divorced), colors (red, blue, green).\n",
        "\n",
        "Ordinal Data: This is also qualitative data, but the categories have a natural order or ranking. However, the difference between the categories is not meaningful or cannot be precisely measured.\n",
        "\n",
        "Examples: Educational level (high school, bachelor's degree, master's degree), satisfaction ratings (low, medium, high), ranking in a competition (first, second, third).\n",
        "\n",
        "Interval Data: This is quantitative data where the differences between values are meaningful and can be measured. However, there is no true zero point, meaning that a value of zero does not represent the complete absence of the characteristic.\n",
        "\n",
        "Examples: Temperature in Celsius or Fahrenheit (0 degrees Celsius does not mean no temperature), years (year 0 is a point in time, not the absence of time).\n",
        "\n",
        "Ratio Data: This is quantitative data where the differences between values are meaningful, and there is a true zero point. A value of zero represents the complete absence of the characteristic, and ratios between values are meaningful.\n",
        "\n",
        "Examples: Height, weight, age, income, number of students in a class (zero students means no students)."
      ],
      "metadata": {
        "id": "_RWcZalbe6iV"
      }
    },
    {
      "cell_type": "markdown",
      "source": [
        "10. Explain nominal, ordinal, interval, and ratio levels of measurement?\n",
        "-  Nominal Level:\n",
        "\n",
        "Characteristics: Data at this level is qualitative and consists of categories that are used for labeling or classification. There is no inherent order or ranking among the categories. You can only count the frequency of observations within each category.\n",
        "\n",
        "Example: Colors (red, blue, green), gender (male, female), marital status (single, married, divorced). You can't say that \"blue\" is greater than \"red,\" or that being \"married\" is somehow \"more\" than being \"single\" in a numerical sense.\n",
        "\n",
        "Allowed Operations: Counting, determining the mode (most frequent category).\n",
        "\n",
        "Ordinal Level:\n",
        "\n",
        "Characteristics: Data at this level is also qualitative, but the categories have a natural order or ranking. However, the differences between the categories are not meaningful or cannot be precisely measured. You know that one category is \"higher\" or \"lower\" than another, but you don't know the exact distance between them.\n",
        "\n",
        "Example: Educational level (high school, bachelor's degree, master's degree), satisfaction ratings (low, medium, high), ranking in a competition (first, second, third). You know that a \"master's degree\" is higher than a \"bachelor's degree,\" but you can't say that the difference in educational attainment is the same as the difference between \"high school\" and a \"bachelor's degree.\"\n",
        "\n",
        "Allowed Operations: Counting, determining the mode and median (the middle value in an ordered set).\n",
        "\n",
        "Interval Level:\n",
        "\n",
        "Characteristics: Data at this level is quantitative, and the differences between values are meaningful and can be measured. However, there is no true zero point, meaning that a value of zero does not represent the complete absence of the characteristic. Ratios between values are not meaningful.\n",
        "\n",
        "Example: Temperature in Celsius or Fahrenheit. The difference between 20°C and 30°C is the same as the difference between 30°C and 40°C (10 degrees). However, 0°C does not mean there is no temperature, and 20°C is not twice as hot as 10°C.\n",
        "\n",
        "Allowed Operations: All operations allowed for nominal and ordinal data, plus addition and subtraction.\n",
        "\n",
        "Ratio Level:\n",
        "\n",
        "Characteristics: Data at this level is quantitative, the differences between values are meaningful, and there is a true zero point. A value of zero represents the complete absence of the characteristic, and ratios between values are meaningful.\n",
        "\n",
        "Example: Height, weight, age, income, number of students in a class. A height of 0 means no height, and a person who is 2 meters tall is twice as tall as a person who is 1 meter tall.\n",
        "\n",
        "Allowed Operations: All operations allowed for nominal, ordinal, and interval data, plus multiplication and division."
      ],
      "metadata": {
        "id": "66pql9uXfwBB"
      }
    },
    {
      "cell_type": "markdown",
      "source": [
        "11. What is the measure of central tendency?\n",
        "-  A measure of central tendency is a single value that attempts to describe the center or typical value of a set of data. It represents the point around which the data points tend to cluster. These measures help summarize a dataset and provide a sense of what a \"typical\" observation looks like.\n",
        "\n"
      ],
      "metadata": {
        "id": "PXDjasqduNn9"
      }
    },
    {
      "cell_type": "markdown",
      "source": [
        "12. Define mean, median, and mode?\n",
        "-  Mean:\n",
        "\n",
        "  Definition: The mean, also known as the average, is calculated by summing all the values in a dataset and dividing by the number of values.\n",
        "\n",
        "  Median:\n",
        "\n",
        "  Definition: The median is the middle value in a dataset that has been ordered from least to greatest. If there is an even number of values, the median is the average of the two middle values.\n",
        "\n",
        "  Mode:\n",
        "\n",
        "  Definition: The mode is the value that appears most frequently in a dataset. A dataset can have one mode (unimodal), more than one mode (multimodal), or no mode at all."
      ],
      "metadata": {
        "id": "bJnq8lb4uY6o"
      }
    },
    {
      "cell_type": "markdown",
      "source": [
        "13.  What is the significance of the measure of central tendency?\n",
        "-  Summarizing Data\n",
        "\n",
        "   Identifying a Typical Value\n",
        "\n",
        "   Comparing Datasets\n",
        "\n",
        "   Basis for Further Analysis\n",
        "\n",
        "   Identifying Skewness\n"
      ],
      "metadata": {
        "id": "EQUOO6M_vi6r"
      }
    },
    {
      "cell_type": "markdown",
      "source": [
        "14.  What is variance, and how is it calculated?\n",
        "-  Variance is a statistical measure that quantifies how much individual data points in a dataset deviate from the mean (average) of the dataset. A higher variance indicates that the data points are more spread out from the mean, while a lower variance indicates that the data points are clustered closer to the mean.\n",
        "\n",
        "Calculate the Mean: Find the mean (average) of the dataset.\n",
        "\n",
        "Calculate Deviations: Subtract the mean from each data point to find the deviation of each data point from the mean.\n",
        "\n",
        "Square the Deviations: Square each of the deviations\n",
        "calculated in step 2.This is done to ensure that positive and negative deviations don't cancel each other out and to give more weight to larger deviations.\n",
        "\n",
        "Sum the Squared Deviations: Add up all the squared deviations.\n",
        "\n",
        "Divide by the Number of Observations (or n-1):\n",
        "\n",
        "For a population: Divide the sum of squared deviations by the total number of observations (N). This is the population variance, often denoted by $\\sigma^2$.\n",
        "\n",
        "\n",
        "For a sample: Divide the sum of squared deviations by the number of observations minus one (n-1). This is the sample variance, often denoted by $s^2$. We use (n-1) for a sample to provide a better estimate of the population variance, especially when the sample size is small (this is called Bessel's correction)."
      ],
      "metadata": {
        "id": "1P7MHNQKvhSM"
      }
    },
    {
      "cell_type": "markdown",
      "source": [
        " 15. What is standard deviation, and why is it important?\n",
        " -  The standard deviation is the square root of the variance. It measures the typical distance of each data point from the mean of the dataset. Like variance, a higher standard deviation indicates that the data points are more spread out from the mean, while a lower standard deviation indicates that they are clustered closer to the mean.\n",
        "\n",
        "-  important :\n",
        "\n",
        "  Interpreting Data Dispersion\n",
        "\n",
        "  Understanding Data Distribution\n",
        "\n",
        "  Comparing Variability\n",
        "\n",
        "  Risk Assessment\n",
        "\n",
        "  Statistical Inference"
      ],
      "metadata": {
        "id": "Y8or7Vyb18Hv"
      }
    },
    {
      "cell_type": "markdown",
      "source": [
        "16. Define and explain the term range in statistics?\n",
        "-  The range in statistics is a simple measure of the spread or dispersion of a dataset. It is calculated as the difference between the highest and lowest values in the dataset.The range provides a very basic idea of how spread out the data is from the lowest point to the highest point. It's the simplest measure of variability.\n",
        "\n",
        " Range = Highest Value - Lowest Value"
      ],
      "metadata": {
        "id": "QG3BmOlR43_N"
      }
    },
    {
      "cell_type": "markdown",
      "source": [
        "17. What is the difference between variance and standard deviation?\n",
        "\n",
        "-  Variance: Variance is the average of the squared differences from the mean. [2] Its value is in squared units of the original data. This means it's not in the same units as the data itself, which can make it difficult to interpret directly.\n",
        "\n",
        "-  Standard Deviation: Standard deviation is the square root of the variance. It measures the typical distance of each data point from the mean in the original units of the data. [2] This makes it much easier to understand and relate to the data you are working with."
      ],
      "metadata": {
        "id": "rNAUxXTA5f9W"
      }
    },
    {
      "cell_type": "markdown",
      "source": [
        "18. What is skewness in a dataset?\n",
        "-  which is a measure of the asymmetry of the probability distribution of a real-valued random variable about its mean. In simpler terms, skewness tells you about the shape of your data's distribution, specifically whether it is symmetrical or if it leans to one side."
      ],
      "metadata": {
        "id": "RhtSZfUU56qA"
      }
    },
    {
      "cell_type": "markdown",
      "source": [
        "19. What does it mean if a dataset is positively or negatively skewed?\n",
        "-  A positively skewed distribution will have a hump on the left and a tail stretching out to the right.\n",
        "A negatively skewed distribution will have a hump on the right and a tail stretching out to the left."
      ],
      "metadata": {
        "id": "m5njySe96i6n"
      }
    },
    {
      "cell_type": "markdown",
      "source": [
        "20. Define and explain kurtosis?\n",
        "-  Kurtosis is a statistical measure that describes the \"tailedness\" and \"peakedness\" of a probability distribution. It tells you about the shape of the tails of the distribution and how peaked or flat the distribution is compared to a normal distribution.\n",
        "\n",
        "In simpler terms, kurtosis helps you understand how much of the data is in the tails compared to the rest of the distribution."
      ],
      "metadata": {
        "id": "DZoJbUFt7YW9"
      }
    },
    {
      "cell_type": "markdown",
      "source": [
        "21. What is the purpose of covariance?\n",
        "-  The purpose of covariance is to measure the linear relationship between two random variables. In other words, it tells you how two variables change together."
      ],
      "metadata": {
        "id": "TeitRPhr7u8f"
      }
    },
    {
      "cell_type": "markdown",
      "source": [
        "22. What does correlation measure in statistics?\n",
        "-  Correlation is a statistical measure that quantifies the strength and direction of the linear relationship between two quantitative variables."
      ],
      "metadata": {
        "id": "G7K3cgIC8Lcq"
      }
    },
    {
      "cell_type": "markdown",
      "source": [
        "23.  What is the difference between covariance and correlation?\n",
        "-  Covariance tells you if two variables tend to move in the same direction (positive covariance) or opposite directions (negative covariance). However, it doesn't tell you how strongly they are related.\n",
        "\n",
        "- Correlation builds upon covariance by standardizing it, allowing you to quantify both the direction and the strength of the linear relationship on a consistent scale (-1 to +1)"
      ],
      "metadata": {
        "id": "OyMgmi218eoX"
      }
    },
    {
      "cell_type": "markdown",
      "source": [
        "24. What are some real-world applications of statistics?\n",
        "-  Business and Marketing\n",
        "\n",
        "  Healthcare and Medicine\n",
        "\n",
        "  Social Sciences\n",
        "\n",
        "  Government and Policy Making\n",
        "\n",
        "  Education"
      ],
      "metadata": {
        "id": "nExi7ZFz8xBW"
      }
    },
    {
      "cell_type": "code",
      "source": [
        "#1  How do you calculate the mean, median, and mode of a dataset?\n",
        "import numpy as np\n",
        "\n",
        "data = [10, 12, 15, 11, 13]\n",
        "\n",
        "    # Calculate the mean using NumPy\n",
        "mean_value = np.mean(data)\n",
        "print(f\"The mean is: {mean_value}\")\n"
      ],
      "metadata": {
        "colab": {
          "base_uri": "https://localhost:8080/"
        },
        "id": "JviQTt71-Jt4",
        "outputId": "db32bfa5-5276-406c-8173-c71a7550d4df"
      },
      "execution_count": null,
      "outputs": [
        {
          "output_type": "stream",
          "name": "stdout",
          "text": [
            "The mean is: 12.2\n"
          ]
        }
      ]
    },
    {
      "cell_type": "code",
      "source": [
        "#2  Write a Python program to compute the variance and standard deviation of a dataset?\n",
        "\n",
        "import numpy as np\n",
        "\n",
        "# Define your dataset\n",
        "data = [10, 12, 15, 11, 13, 16, 14, 18, 17]\n",
        "\n",
        "# --- Calculating Variance ---\n",
        "\n",
        "# Calculate Population Variance\n",
        "# np.var() with default ddof=0 calculates population variance\n",
        "population_variance = np.var(data)\n",
        "print(f\"Population Variance: {population_variance}\")\n",
        "\n",
        "# Calculate Sample Variance\n",
        "# np.var() with ddof=1 calculates sample variance (uses n-1 in the denominator)\n",
        "sample_variance = np.var(data, ddof=1)\n",
        "print(f\"Sample Variance: {sample_variance}\")\n",
        "\n",
        "print(\"-\" * 20) # Separator for clarity\n",
        "\n",
        "# --- Calculating Standard Deviation ---\n",
        "\n",
        "# Calculate Population Standard Deviation\n",
        "# np.std() with default ddof=0 calculates population standard deviation\n",
        "population_std_dev = np.std(data)\n",
        "print(f\"Population Standard Deviation: {population_std_dev}\")\n",
        "\n",
        "# Calculate Sample Standard Deviation\n",
        "# np.std() with ddof=1 calculates sample standard deviation (uses n-1 in the denominator)\n",
        "sample_std_dev = np.std(data, ddof=1)\n",
        "print(f\"Sample Standard Deviation: {sample_std_dev}\")"
      ],
      "metadata": {
        "colab": {
          "base_uri": "https://localhost:8080/"
        },
        "id": "87A16DXq-e8O",
        "outputId": "c14b8045-881c-4c97-f54f-0868d23f0353"
      },
      "execution_count": null,
      "outputs": [
        {
          "output_type": "stream",
          "name": "stdout",
          "text": [
            "Population Variance: 6.666666666666667\n",
            "Sample Variance: 7.5\n",
            "--------------------\n",
            "Population Standard Deviation: 2.581988897471611\n",
            "Sample Standard Deviation: 2.7386127875258306\n"
          ]
        }
      ]
    },
    {
      "cell_type": "code",
      "source": [
        "#3 Create a dataset and classify it into nominal, ordinal, interval, and ratio types?\n",
        "\n",
        "# Create a dataset (represented as a list of dictionaries)\n",
        "student_data = [\n",
        "    {'Student_ID': 101, 'Name': 'Alice', 'Major': 'Computer Science', 'Grade': 'A', 'Exam_Score': 92, 'Height_cm': 165},\n",
        "    {'Student_ID': 102, 'Name': 'Bob', 'Major': 'Physics', 'Grade': 'B', 'Exam_Score': 85, 'Height_cm': 178},\n",
        "    {'Student_ID': 103, 'Name': 'Charlie', 'Major': 'Mathematics', 'Grade': 'A', 'Exam_Score': 88, 'Height_cm': 172},\n",
        "    {'Student_ID': 104, 'Name': 'David', 'Major': 'Computer Science', 'Grade': 'C', 'Exam_Score': 75, 'Height_cm': 180},\n",
        "    {'Student_ID': 105, 'Name': 'Eve', 'Major': 'Chemistry', 'Grade': 'B', 'Exam_Score': 80, 'Height_cm': 160},\n",
        "]\n",
        "\n",
        "# Now, let's classify the variables in this dataset:\n",
        "\n",
        "print(\"Classifying variables by level of measurement:\")\n",
        "\n",
        "# 1. Nominal Data\n",
        "print(\"\\nNominal Variables:\")\n",
        "print(\"- Student_ID: Used for unique identification, no inherent order or numerical meaning.\")\n",
        "print(\"- Name: Categories for labeling individuals, no order.\")\n",
        "print(\"- Major: Categories for different fields of study, no inherent order.\")\n",
        "\n",
        "# 2. Ordinal Data\n",
        "print(\"\\nOrdinal Variables:\")\n",
        "print(\"- Grade: Categories (A, B, C) with a clear order/ranking, but the difference between grades is not a precise numerical measure.\")\n",
        "\n",
        "# 3. Interval Data\n",
        "print(\"\\nInterval Variables:\")\n",
        "print(\"- Exam_Score: Numerical data where differences are meaningful (e.g., the difference between 90 and 80 is the same as between 80 and 70). However, there is no true zero point where a score of 0 means a complete absence of knowledge or skill in an absolute sense.\")\n",
        "\n",
        "# 4. Ratio Data\n",
        "print(\"\\nRatio Variables:\")\n",
        "print(\"- Height_cm: Numerical data where differences are meaningful, and there is a true zero point (0 cm means no height). Ratios are also meaningful (e.g., a person who is 180 cm tall is twice as tall as someone who is 90 cm).\")"
      ],
      "metadata": {
        "colab": {
          "base_uri": "https://localhost:8080/"
        },
        "id": "MwJNXNjM-8dy",
        "outputId": "01b513df-05ee-478f-8f62-6eb316123d78"
      },
      "execution_count": null,
      "outputs": [
        {
          "output_type": "stream",
          "name": "stdout",
          "text": [
            "Classifying variables by level of measurement:\n",
            "\n",
            "Nominal Variables:\n",
            "- Student_ID: Used for unique identification, no inherent order or numerical meaning.\n",
            "- Name: Categories for labeling individuals, no order.\n",
            "- Major: Categories for different fields of study, no inherent order.\n",
            "\n",
            "Ordinal Variables:\n",
            "- Grade: Categories (A, B, C) with a clear order/ranking, but the difference between grades is not a precise numerical measure.\n",
            "\n",
            "Interval Variables:\n",
            "- Exam_Score: Numerical data where differences are meaningful (e.g., the difference between 90 and 80 is the same as between 80 and 70). However, there is no true zero point where a score of 0 means a complete absence of knowledge or skill in an absolute sense.\n",
            "\n",
            "Ratio Variables:\n",
            "- Height_cm: Numerical data where differences are meaningful, and there is a true zero point (0 cm means no height). Ratios are also meaningful (e.g., a person who is 180 cm tall is twice as tall as someone who is 90 cm).\n"
          ]
        }
      ]
    },
    {
      "cell_type": "code",
      "source": [
        "#4.  Implement sampling techniques like random sampling and stratified sampling?\n",
        "\n",
        "import random\n",
        "from sklearn.model_selection import train_test_split\n",
        "import pandas as pd # Using pandas for easier handling of stratified data\n",
        "\n",
        "# --- Create a hypothetical dataset ---\n",
        "data = []\n",
        "# Let's create a dataset with a 'category' and a 'value'\n",
        "for i in range(100):\n",
        "    category = 'A' if i < 60 else ('B' if i < 90 else 'C') # Unequal distribution of categories\n",
        "    value = i * 2\n",
        "    data.append({'ID': i, 'Category': category, 'Value': value})\n",
        "\n",
        "# Convert to pandas DataFrame for easier handling\n",
        "df = pd.DataFrame(data)\n",
        "\n",
        "print(\"Original Dataset:\")\n",
        "print(df.head())\n",
        "print(\"\\nCategory distribution in original dataset:\")\n",
        "print(df['Category'].value_counts())\n",
        "print(\"-\" * 30)\n",
        "\n",
        "# --- 1. Simple Random Sampling ---\n",
        "\n",
        "# Define the desired sample size\n",
        "sample_size_random = 20\n",
        "\n",
        "# Perform simple random sampling\n",
        "random_sample = random.sample(data, sample_size_random)\n",
        "\n",
        "print(f\"\\nSimple Random Sample (size: {sample_size_random}):\")\n",
        "for item in random_sample:\n",
        "    print(item)\n",
        "print(\"-\" * 30)\n",
        "\n",
        "\n",
        "# --- 2. Stratified Sampling ---\n",
        "\n",
        "# For stratified sampling, we need to split the data based on a stratifying variable.\n",
        "# We'll stratify based on the 'Category' column.\n",
        "\n",
        "# Define the desired proportion of the sample (e.g., 20% of the original data)\n",
        "sample_proportion_stratified = 0.2\n",
        "\n",
        "# Use train_test_split for stratified sampling\n",
        "# We split the original DataFrame into a training set and a \"sample\" set,\n",
        "# ensuring the 'Category' distribution is preserved in the sample.\n",
        "# train_size will be (1 - sample_proportion_stratified)\n",
        "# test_size will be sample_proportion_stratified\n",
        "# stratify=df['Category'] ensures stratification based on the 'Category' column\n",
        "# random_state for reproducibility\n",
        "train_df, stratified_sample_df = train_test_split(\n",
        "    df,\n",
        "    test_size=sample_proportion_stratified,\n",
        "    stratify=df['Category'],\n",
        "    random_state=42\n",
        ")\n",
        "\n",
        "print(f\"\\nStratified Sample (proportion: {sample_proportion_stratified}):\")\n",
        "print(stratified_sample_df.head())\n",
        "print(\"\\nCategory distribution in stratified sample:\")\n",
        "print(stratified_sample_df['Category'].value_counts())\n",
        "print(\"-\" * 30)"
      ],
      "metadata": {
        "colab": {
          "base_uri": "https://localhost:8080/"
        },
        "id": "ohTMb-wt_TKN",
        "outputId": "fa59f286-2094-4b0c-90b5-108afc70367f"
      },
      "execution_count": null,
      "outputs": [
        {
          "output_type": "stream",
          "name": "stdout",
          "text": [
            "Original Dataset:\n",
            "   ID Category  Value\n",
            "0   0        A      0\n",
            "1   1        A      2\n",
            "2   2        A      4\n",
            "3   3        A      6\n",
            "4   4        A      8\n",
            "\n",
            "Category distribution in original dataset:\n",
            "Category\n",
            "A    60\n",
            "B    30\n",
            "C    10\n",
            "Name: count, dtype: int64\n",
            "------------------------------\n",
            "\n",
            "Simple Random Sample (size: 20):\n",
            "{'ID': 25, 'Category': 'A', 'Value': 50}\n",
            "{'ID': 40, 'Category': 'A', 'Value': 80}\n",
            "{'ID': 27, 'Category': 'A', 'Value': 54}\n",
            "{'ID': 14, 'Category': 'A', 'Value': 28}\n",
            "{'ID': 36, 'Category': 'A', 'Value': 72}\n",
            "{'ID': 12, 'Category': 'A', 'Value': 24}\n",
            "{'ID': 64, 'Category': 'B', 'Value': 128}\n",
            "{'ID': 71, 'Category': 'B', 'Value': 142}\n",
            "{'ID': 3, 'Category': 'A', 'Value': 6}\n",
            "{'ID': 16, 'Category': 'A', 'Value': 32}\n",
            "{'ID': 21, 'Category': 'A', 'Value': 42}\n",
            "{'ID': 4, 'Category': 'A', 'Value': 8}\n",
            "{'ID': 72, 'Category': 'B', 'Value': 144}\n",
            "{'ID': 38, 'Category': 'A', 'Value': 76}\n",
            "{'ID': 0, 'Category': 'A', 'Value': 0}\n",
            "{'ID': 22, 'Category': 'A', 'Value': 44}\n",
            "{'ID': 24, 'Category': 'A', 'Value': 48}\n",
            "{'ID': 74, 'Category': 'B', 'Value': 148}\n",
            "{'ID': 48, 'Category': 'A', 'Value': 96}\n",
            "{'ID': 98, 'Category': 'C', 'Value': 196}\n",
            "------------------------------\n",
            "\n",
            "Stratified Sample (proportion: 0.2):\n",
            "    ID Category  Value\n",
            "38  38        A     76\n",
            "10  10        A     20\n",
            "74  74        B    148\n",
            "42  42        A     84\n",
            "59  59        A    118\n",
            "\n",
            "Category distribution in stratified sample:\n",
            "Category\n",
            "A    12\n",
            "B     6\n",
            "C     2\n",
            "Name: count, dtype: int64\n",
            "------------------------------\n"
          ]
        }
      ]
    },
    {
      "cell_type": "code",
      "source": [
        "#5.  Write a Python function to calculate the range of a dataset?\n",
        "def calculate_range(data):\n",
        "  \"\"\"\n",
        "  Calculates the range of a dataset.\n",
        "\n",
        "  Args:\n",
        "    data: A list or other iterable of numerical data.\n",
        "\n",
        "  Returns:\n",
        "    The range of the dataset (highest value - lowest value).\n",
        "    Returns None if the dataset is empty or contains non-numeric values\n",
        "    that prevent comparison.\n",
        "  \"\"\"\n",
        "  if not data:\n",
        "    return None # Handle empty dataset\n",
        "\n",
        "  try:\n",
        "    # Find the highest value\n",
        "    highest_value = max(data)\n",
        "    # Find the lowest value\n",
        "    lowest_value = min(data)\n",
        "    # Calculate the range\n",
        "    data_range = highest_value - lowest_value\n",
        "    return data_range\n",
        "  except TypeError:\n",
        "    print(\"Error: The dataset contains non-numeric values.\")\n",
        "    return None # Handle cases with non-numeric values\n",
        "\n",
        "# Example usage:\n",
        "dataset1 = [10, 12, 15, 11, 13, 16, 14, 18, 17]\n",
        "range1 = calculate_range(dataset1)\n",
        "if range1 is not None:\n",
        "  print(f\"The range of dataset1 is: {range1}\")\n",
        "\n",
        "dataset2 = [5, 5, 5, 5]\n",
        "range2 = calculate_range(dataset2)\n",
        "if range2 is not None:\n",
        "  print(f\"The range of dataset2 is: {range2}\")\n",
        "\n",
        "dataset3 = []\n",
        "range3 = calculate_range(dataset3)\n",
        "if range3 is not None:\n",
        "  print(f\"The range of dataset3 is: {range3}\")\n",
        "else:\n",
        "  print(\"Cannot calculate range for an empty dataset.\")\n",
        "\n",
        "dataset4 = [1, 2, 'a', 4]\n",
        "range4 = calculate_range(dataset4)\n",
        "if range4 is not None:\n",
        "    print(f\"The range of dataset4 is: {range4}\")"
      ],
      "metadata": {
        "colab": {
          "base_uri": "https://localhost:8080/"
        },
        "id": "E8_IL3ej_drJ",
        "outputId": "0651abeb-b41d-4fe6-c0ce-2ecb14937af1"
      },
      "execution_count": null,
      "outputs": [
        {
          "output_type": "stream",
          "name": "stdout",
          "text": [
            "The range of dataset1 is: 8\n",
            "The range of dataset2 is: 0\n",
            "Cannot calculate range for an empty dataset.\n",
            "Error: The dataset contains non-numeric values.\n"
          ]
        }
      ]
    },
    {
      "cell_type": "code",
      "source": [
        "#6. Create a dataset and plot its histogram to visualize skewness?\n",
        "import numpy as np\n",
        "import matplotlib.pyplot as plt\n",
        "\n",
        "# --- Create a skewed dataset ---\n",
        "# Generate data from a log-normal distribution, which is typically positively skewed\n",
        "np.random.seed(42) # for reproducibility\n",
        "skewed_data = np.random.lognormal(mean=2, sigma=0.5, size=1000)\n",
        "\n",
        "# --- Plot a histogram to visualize skewness ---\n",
        "\n",
        "plt.figure(figsize=(8, 6)) # Set the figure size\n",
        "plt.hist(skewed_data, bins=50, edgecolor='black', alpha=0.7) # Create the histogram\n",
        "\n",
        "# Add titles and labels\n",
        "plt.title('Histogram of a Positively Skewed Dataset')\n",
        "plt.xlabel('Value')\n",
        "plt.ylabel('Frequency')\n",
        "\n",
        "# Show the plot\n",
        "plt.grid(axis='y', alpha=0.5) # Add a grid for better readability\n",
        "plt.show()\n",
        "\n",
        "# --- Let's also look at a roughly symmetrical dataset for comparison ---\n",
        "# Generate data from a normal distribution\n",
        "normal_data = np.random.normal(loc=0, scale=1, size=1000)\n",
        "\n",
        "plt.figure(figsize=(8, 6))\n",
        "plt.hist(normal_data, bins=50, edgecolor='black', alpha=0.7)\n",
        "plt.title('Histogram of a Symmetrical (Normal) Dataset')\n",
        "plt.xlabel('Value')\n",
        "plt.ylabel('Frequency')\n",
        "plt.grid(axis='y', alpha=0.5)\n",
        "plt.show()"
      ],
      "metadata": {
        "colab": {
          "base_uri": "https://localhost:8080/",
          "height": 1000
        },
        "id": "TaEkAhTF_r83",
        "outputId": "3c51fa97-341c-4c7d-d791-50767b5ceb33"
      },
      "execution_count": null,
      "outputs": [
        {
          "output_type": "display_data",
          "data": {
            "text/plain": [
              "<Figure size 800x600 with 1 Axes>"
            ],
            "image/png": "[encoded data removed]"
          },
          "metadata": {}
        },
        {
          "output_type": "display_data",
          "data": {
            "text/plain": [
              "<Figure size 800x600 with 1 Axes>"
            ],
            "image/png": "[encoded data removed]"
          },
          "metadata": {}
        }
      ]
    },
    {
      "cell_type": "code",
      "source": [
        "#7.  Calculate skewness and kurtosis of a dataset using Python libraries?\n",
        "import numpy as np\n",
        "from scipy.stats import skew, kurtosis\n",
        "\n",
        "# --- Create a dataset ---\n",
        "# We'll use the same skewed dataset from the previous example to demonstrate\n",
        "np.random.seed(42) # for reproducibility\n",
        "skewed_data = np.random.lognormal(mean=2, sigma=0.5, size=1000)\n",
        "\n",
        "# Let's also create a roughly symmetrical dataset (normal distribution) for comparison\n",
        "normal_data = np.random.normal(loc=0, scale=1, size=1000)\n",
        "\n",
        "# --- Calculate Skewness ---\n",
        "\n",
        "# Skewness of the skewed dataset\n",
        "skewness_skewed = skew(skewed_data)\n",
        "print(f\"Skewness of skewed_data: {skewness_skewed}\")\n",
        "\n",
        "# Skewness of the normal dataset\n",
        "skewness_normal = skew(normal_data)\n",
        "print(f\"Skewness of normal_data: {skewness_normal}\")\n",
        "\n",
        "print(\"-\" * 30) # Separator for clarity\n",
        "\n",
        "# --- Calculate Kurtosis ---\n",
        "\n",
        "# Kurtosis of the skewed dataset\n",
        "# By default, scipy's kurtosis calculates Fisher's kurtosis (excess kurtosis),\n",
        "# where a normal distribution has a kurtosis of 0.\n",
        "kurtosis_skewed = kurtosis(skewed_data)\n",
        "print(f\"Kurtosis (Fisher) of skewed_data: {kurtosis_skewed}\")\n",
        "\n",
        "# Kurtosis of the normal dataset\n",
        "kurtosis_normal = kurtosis(normal_data)\n",
        "print(f\"Kurtosis (Fisher) of normal_data: {kurtosis_normal}\")\n",
        "\n",
        "# If you want Pearson's kurtosis (where normal distribution has kurtosis of 3),\n",
        "# you can use the fisher=False argument:\n",
        "kurtosis_skewed_pearson = kurtosis(skewed_data, fisher=False)\n",
        "print(f\"Kurtosis (Pearson) of skewed_data: {kurtosis_skewed_pearson}\")\n",
        "\n",
        "kurtosis_normal_pearson = kurtosis(normal_data, fisher=False)\n",
        "print(f\"Kurtosis (Pearson) of normal_data: {kurtosis_normal_pearson}\")"
      ],
      "metadata": {
        "colab": {
          "base_uri": "https://localhost:8080/"
        },
        "id": "AI_MMEDDABFZ",
        "outputId": "bd8d0842-4914-4fc3-ffb5-44b9128cc318"
      },
      "execution_count": null,
      "outputs": [
        {
          "output_type": "stream",
          "name": "stdout",
          "text": [
            "Skewness of skewed_data: 2.134481418643329\n",
            "Skewness of normal_data: -0.049321773965299257\n",
            "------------------------------\n",
            "Kurtosis (Fisher) of skewed_data: 9.80363432544893\n",
            "Kurtosis (Fisher) of normal_data: 0.05211754569784022\n",
            "Kurtosis (Pearson) of skewed_data: 12.80363432544893\n",
            "Kurtosis (Pearson) of normal_data: 3.05211754569784\n"
          ]
        }
      ]
    },
    {
      "cell_type": "code",
      "source": [
        "#8. Generate a dataset and demonstrate positive and negative skewness?\n",
        "import numpy as np\n",
        "import matplotlib.pyplot as plt\n",
        "from scipy.stats import skew # Optional: to confirm the skewness values\n",
        "\n",
        "# --- Generate a Positively Skewed Dataset ---\n",
        "# A common way is to use a right-skewed distribution like log-normal or chi-squared\n",
        "np.random.seed(42) # for reproducibility\n",
        "positive_skew_data = np.random.lognormal(mean=1, sigma=0.7, size=500) # Log-normal distribution\n",
        "\n",
        "# --- Generate a Negatively Skewed Dataset ---\n",
        "# A common way is to use a distribution that is bounded on the right, like the Beta distribution,\n",
        "# or by transforming a positively skewed distribution (e.g., reflecting it).\n",
        "# Let's create one by subtracting a positively skewed variable from a constant.\n",
        "# This is a simple way to create a left-skewed distribution for demonstration.\n",
        "constant = 100\n",
        "negative_skew_data = constant - np.random.lognormal(mean=1, sigma=0.7, size=500)\n",
        "\n",
        "\n",
        "# --- Plot Histograms to Visualize Skewness ---\n",
        "\n",
        "plt.figure(figsize=(12, 5))\n",
        "\n",
        "# Histogram for Positively Skewed Data\n",
        "plt.subplot(1, 2, 1) # Create a subplot (1 row, 2 columns, 1st plot)\n",
        "plt.hist(positive_skew_data, bins=30, edgecolor='black', alpha=0.7)\n",
        "plt.title('Positively Skewed Distribution')\n",
        "plt.xlabel('Value')\n",
        "plt.ylabel('Frequency')\n",
        "plt.grid(axis='y', alpha=0.5)\n",
        "\n",
        "# Histogram for Negatively Skewed Data\n",
        "plt.subplot(1, 2, 2) # Create the second subplot\n",
        "plt.hist(negative_skew_data, bins=30, edgecolor='black', alpha=0.7)\n",
        "plt.title('Negatively Skewed Distribution')\n",
        "plt.xlabel('Value')\n",
        "plt.ylabel('Frequency')\n",
        "plt.grid(axis='y', alpha=0.5)\n",
        "\n",
        "plt.tight_layout() # Adjust layout to prevent overlapping titles/labels\n",
        "plt.show()\n",
        "\n",
        "# --- Optional: Calculate and print skewness values to confirm ---\n",
        "skewness_positive = skew(positive_skew_data)\n",
        "skewness_negative = skew(negative_skew_data)\n",
        "\n",
        "print(f\"\\nCalculated Skewness for Positively Skewed Data: {skewness_positive}\")\n",
        "print(f\"Calculated Skewness for Negatively Skewed Data: {skewness_negative}\")"
      ],
      "metadata": {
        "colab": {
          "base_uri": "https://localhost:8080/",
          "height": 423
        },
        "id": "oiOf4FYRAGPr",
        "outputId": "78e666ed-a24f-4210-c142-14d329e20071"
      },
      "execution_count": null,
      "outputs": [
        {
          "output_type": "display_data",
          "data": {
            "text/plain": [
              "<Figure size 1200x500 with 2 Axes>"
            ],
            "image/png": "[encoded data removed]"
          },
          "metadata": {}
        },
        {
          "output_type": "stream",
          "name": "stdout",
          "text": [
            "\n",
            "Calculated Skewness for Positively Skewed Data: 4.771188106197714\n",
            "Calculated Skewness for Negatively Skewed Data: -2.0840993193242014\n"
          ]
        }
      ]
    },
    {
      "cell_type": "code",
      "source": [
        "#9 Write a Python script to calculate covariance between two datasets?\n",
        "import numpy as np\n",
        "import matplotlib.pyplot as plt\n",
        "from scipy.stats import skew # Optional: to confirm the skewness values\n",
        "\n",
        "# --- Generate a Positively Skewed Dataset ---\n",
        "# A common way is to use a right-skewed distribution like log-normal or chi-squared\n",
        "np.random.seed(42) # for reproducibility\n",
        "positive_skew_data = np.random.lognormal(mean=1, sigma=0.7, size=500) # Log-normal distribution\n",
        "\n",
        "# --- Generate a Negatively Skewed Dataset ---\n",
        "# A common way is to use a distribution that is bounded on the right, like the Beta distribution,\n",
        "# or by transforming a positively skewed distribution (e.g., reflecting it).\n",
        "# Let's create one by subtracting a positively skewed variable from a constant.\n",
        "# This is a simple way to create a left-skewed distribution for demonstration.\n",
        "constant = 100\n",
        "negative_skew_data = constant - np.random.lognormal(mean=1, sigma=0.7, size=500)\n",
        "\n",
        "\n",
        "# --- Plot Histograms to Visualize Skewness ---\n",
        "\n",
        "plt.figure(figsize=(12, 5))\n",
        "\n",
        "# Histogram for Positively Skewed Data\n",
        "plt.subplot(1, 2, 1) # Create a subplot (1 row, 2 columns, 1st plot)\n",
        "plt.hist(positive_skew_data, bins=30, edgecolor='black', alpha=0.7)\n",
        "plt.title('Positively Skewed Distribution')\n",
        "plt.xlabel('Value')\n",
        "plt.ylabel('Frequency')\n",
        "plt.grid(axis='y', alpha=0.5)\n",
        "\n",
        "# Histogram for Negatively Skewed Data\n",
        "plt.subplot(1, 2, 2) # Create the second subplot\n",
        "plt.hist(negative_skew_data, bins=30, edgecolor='black', alpha=0.7)\n",
        "plt.title('Negatively Skewed Distribution')\n",
        "plt.xlabel('Value')\n",
        "plt.ylabel('Frequency')\n",
        "plt.grid(axis='y', alpha=0.5)\n",
        "\n",
        "plt.tight_layout() # Adjust layout to prevent overlapping titles/labels\n",
        "plt.show()\n",
        "\n",
        "# --- Optional: Calculate and print skewness values to confirm ---\n",
        "skewness_positive = skew(positive_skew_data)\n",
        "skewness_negative = skew(negative_skew_data)\n",
        "\n",
        "print(f\"\\nCalculated Skewness for Positively Skewed Data: {skewness_positive}\")\n",
        "print(f\"Calculated Skewness for Negatively Skewed Data: {skewness_negative}\")"
      ],
      "metadata": {
        "colab": {
          "base_uri": "https://localhost:8080/",
          "height": 579
        },
        "id": "iH-9-idTARdg",
        "outputId": "72401287-cb94-4d49-86b2-a8de8908c095"
      },
      "execution_count": null,
      "outputs": [
        {
          "output_type": "display_data",
          "data": {
            "text/plain": [
              "<Figure size 1200x500 with 2 Axes>"
            ],
            "image/png": "[encoded data removed]"
          },
          "metadata": {}
        },
        {
          "output_type": "stream",
          "name": "stdout",
          "text": [
            "\n",
            "Calculated Skewness for Positively Skewed Data: 4.771188106197714\n",
            "Calculated Skewness for Negatively Skewed Data: -2.0840993193242014\n"
          ]
        }
      ]
    },
    {
      "cell_type": "code",
      "source": [
        "#10.Write a Python script to calculate the correlation coefficient between two datasets?\n",
        "import numpy as np\n",
        "\n",
        "# --- Create two sample datasets ---\n",
        "# Let's create two datasets that are somewhat linearly related\n",
        "dataset1 = np.array([10, 12, 15, 11, 13, 16, 14, 18, 17, 20])\n",
        "dataset2 = np.array([25, 30, 35, 28, 32, 40, 38, 45, 42, 50])\n",
        "\n",
        "# Let's also create two datasets with little to no linear correlation\n",
        "dataset3 = np.array([1, 2, 3, 4, 5, 6, 7, 8, 9, 10])\n",
        "dataset4 = np.array([5, 1, 8, 3, 10, 2, 9, 4, 7, 6]) # Random order\n",
        "\n",
        "# --- Calculate the correlation coefficient ---\n",
        "\n",
        "# Correlation between dataset1 and dataset2 (expected to be highly positive)\n",
        "correlation_1_2 = np.corrcoef(dataset1, dataset2)[0, 1]\n",
        "print(f\"Correlation coefficient between dataset1 and dataset2: {correlation_1_2}\")\n",
        "\n",
        "# Correlation between dataset3 and dataset4 (expected to be close to 0)\n",
        "correlation_3_4 = np.corrcoef(dataset3, dataset4)[0, 1]\n",
        "print(f\"Correlation coefficient between dataset3 and dataset4: {correlation_3_4}\")"
      ],
      "metadata": {
        "colab": {
          "base_uri": "https://localhost:8080/"
        },
        "id": "aoB5LaeAAerm",
        "outputId": "5ad2332f-b434-47a5-a888-25d8c53ea9ba"
      },
      "execution_count": null,
      "outputs": [
        {
          "output_type": "stream",
          "name": "stdout",
          "text": [
            "Correlation coefficient between dataset1 and dataset2: 0.9860688032448548\n",
            "Correlation coefficient between dataset3 and dataset4: 0.24848484848484845\n"
          ]
        }
      ]
    },
    {
      "cell_type": "code",
      "source": [
        "#11  Create a scatter plot to visualize the relationship between two variables?\n",
        "import matplotlib.pyplot as plt\n",
        "import numpy as np\n",
        "\n",
        "# Re-using dataset1 and dataset2 from previous cell for demonstration\n",
        "dataset1 = np.array([10, 12, 15, 11, 13, 16, 14, 18, 17, 20])\n",
        "dataset2 = np.array([25, 30, 35, 28, 32, 40, 38, 45, 42, 50])\n",
        "\n",
        "# Create the scatter plot\n",
        "plt.figure(figsize=(8, 6)) # Set the figure size\n",
        "plt.scatter(dataset1, dataset2) # Create the scatter plot\n",
        "\n",
        "# Add titles and labels\n",
        "plt.title('Scatter Plot of dataset1 vs dataset2')\n",
        "plt.xlabel('dataset1 Values')\n",
        "plt.ylabel('dataset2 Values')\n",
        "\n",
        "# Show the plot\n",
        "plt.grid(True) # Add a grid\n",
        "plt.show()"
      ],
      "metadata": {
        "colab": {
          "base_uri": "https://localhost:8080/",
          "height": 564
        },
        "id": "4FwXhd4MgaO8",
        "outputId": "39c52f0e-ce16-42bc-dc70-7553cc64dd04"
      },
      "execution_count": 1,
      "outputs": [
        {
          "output_type": "display_data",
          "data": {
            "text/plain": [
              "<Figure size 800x600 with 1 Axes>"
            ],
            "image/png": "[encoded data removed]"
          },
          "metadata": {}
        }
      ]
    },
    {
      "cell_type": "code",
      "metadata": {
        "colab": {
          "base_uri": "https://localhost:8080/"
        },
        "id": "4af070ba",
        "outputId": "8cdc0e1d-b2ed-4060-effd-5d9aa7ceb795"
      },
      "source": [
        "#12 Implement and compare simple random sampling and systematic sampling?\n",
        "\n",
        "import random\n",
        "import numpy as np\n",
        "\n",
        "# --- Create a sample dataset ---\n",
        "# Let's create a simple dataset of numbers from 1 to 100\n",
        "dataset = list(range(1, 101))\n",
        "print(\"Original dataset size:\", len(dataset))\n",
        "print(\"-\" * 30)\n",
        "\n",
        "# --- Simple Random Sampling ---\n",
        "\n",
        "# Define the desired sample size\n",
        "sample_size = 10\n",
        "\n",
        "# Perform simple random sampling\n",
        "simple_random_sample = random.sample(dataset, sample_size)\n",
        "\n",
        "print(f\"Simple Random Sample (size: {sample_size}):\")\n",
        "print(simple_random_sample)\n",
        "print(\"-\" * 30)\n",
        "\n",
        "# --- Systematic Sampling ---\n",
        "\n",
        "# Define the desired sample size\n",
        "systematic_sample_size = 10\n",
        "\n",
        "# Calculate the sampling interval (k)\n",
        "# k = Population Size / Sample Size\n",
        "interval = len(dataset) // systematic_sample_size\n",
        "\n",
        "# Choose a random starting point (between 0 and interval-1)\n",
        "start_point = random.randint(0, interval - 1)\n",
        "\n",
        "# Perform systematic sampling\n",
        "systematic_sample = [dataset[start_point + i * interval] for i in range(systematic_sample_size)]\n",
        "\n",
        "print(f\"Systematic Sample (size: {systematic_sample_size}, interval: {interval}, start: {start_point+1}):\")\n",
        "print(systematic_sample)\n",
        "print(\"-\" * 30)\n",
        "\n",
        "# --- Comparison ---\n",
        "print(\"Comparison:\")\n",
        "print(f\"Simple Random Sample: {sorted(simple_random_sample)}\")\n",
        "print(f\"Systematic Sample: {sorted(systematic_sample)}\")\n",
        "\n",
        "# Note: The samples will likely be different each time you run this due to randomness.\n",
        "# Simple random sampling gives every combination of items an equal chance of being selected.\n",
        "# Systematic sampling selects items at regular intervals after a random start."
      ],
      "execution_count": 2,
      "outputs": [
        {
          "output_type": "stream",
          "name": "stdout",
          "text": [
            "Original dataset size: 100\n",
            "------------------------------\n",
            "Simple Random Sample (size: 10):\n",
            "[75, 63, 32, 93, 44, 70, 22, 79, 77, 23]\n",
            "------------------------------\n",
            "Systematic Sample (size: 10, interval: 10, start: 8):\n",
            "[8, 18, 28, 38, 48, 58, 68, 78, 88, 98]\n",
            "------------------------------\n",
            "Comparison:\n",
            "Simple Random Sample: [22, 23, 32, 44, 63, 70, 75, 77, 79, 93]\n",
            "Systematic Sample: [8, 18, 28, 38, 48, 58, 68, 78, 88, 98]\n"
          ]
        }
      ]
    },
    {
      "cell_type": "code",
      "metadata": {
        "colab": {
          "base_uri": "https://localhost:8080/",
          "height": 1000
        },
        "id": "79001ca3",
        "outputId": "720cdd77-5124-4245-a651-cd35cdc2937d"
      },
      "source": [
        "#13 Calculate the mean, median, and mode of grouped data?\n",
        "\n",
        "import pandas as pd\n",
        "import numpy as np\n",
        "\n",
        "# --- Create a hypothetical dataset of grouped data ---\n",
        "# Let's say we have frequency distribution of exam scores\n",
        "data = {'Score_Range': ['0-10', '10-20', '20-30', '30-40', '40-50', '50-60', '60-70', '70-80', '80-90', '90-100'],\n",
        "        'Frequency': [2, 5, 8, 12, 15, 10, 7, 5, 3, 1]}\n",
        "\n",
        "df_grouped = pd.DataFrame(data)\n",
        "\n",
        "print(\"Grouped Data:\")\n",
        "display(df_grouped)\n",
        "print(\"-\" * 30)\n",
        "\n",
        "# --- Calculate the Mean of Grouped Data ---\n",
        "# We need the midpoint of each class interval\n",
        "df_grouped['Midpoint'] = [5, 15, 25, 35, 45, 55, 65, 75, 85, 95] # Manually defined midpoints\n",
        "\n",
        "# Multiply frequency by midpoint\n",
        "df_grouped['Freq_x_Midpoint'] = df_grouped['Frequency'] * df_grouped['Midpoint']\n",
        "\n",
        "# Sum of (frequency * midpoint)\n",
        "sum_freq_midpoint = df_grouped['Freq_x_Midpoint'].sum()\n",
        "\n",
        "# Total frequency (total number of data points)\n",
        "total_frequency = df_grouped['Frequency'].sum()\n",
        "\n",
        "# Mean = Sum of (frequency * midpoint) / Total frequency\n",
        "mean_grouped = sum_freq_midpoint / total_frequency\n",
        "\n",
        "print(f\"Mean of Grouped Data: {mean_grouped}\")\n",
        "print(\"-\" * 30)\n",
        "\n",
        "# --- Calculate the Median of Grouped Data ---\n",
        "# The median is the middle value. For grouped data, we find the class containing the median.\n",
        "# Median position = (Total frequency + 1) / 2\n",
        "median_position = (total_frequency + 1) / 2\n",
        "# Alternative for continuous data: Median position = Total frequency / 2\n",
        "# Let's use the continuous data approach here as it's more common for grouped data\n",
        "\n",
        "median_position_continuous = total_frequency / 2\n",
        "\n",
        "# Find the cumulative frequency\n",
        "df_grouped['Cumulative_Frequency'] = df_grouped['Frequency'].cumsum()\n",
        "\n",
        "print(\"Data with Cumulative Frequency:\")\n",
        "display(df_grouped)\n",
        "print(\"-\" * 30)\n",
        "\n",
        "# Find the median class (the first class where cumulative frequency is >= median_position_continuous)\n",
        "# Use .iloc[0] to get the first row that satisfies the condition\n",
        "median_class_row = df_grouped[df_grouped['Cumulative_Frequency'] >= median_position_continuous].iloc[0]\n",
        "\n",
        "# Extract information for the median formula\n",
        "L = int(median_class_row['Score_Range'].split('-')[0]) # Lower boundary of the median class\n",
        "n = total_frequency\n",
        "# Get the index of the median class row\n",
        "median_class_index = median_class_row.index[0] if pd.api.types.is_integer_dtype(median_class_row.index) else median_class_row.index\n",
        "# Cumulative frequency of the class preceding the median class\n",
        "cf_p = df_grouped.loc[median_class_index - 1, 'Cumulative_Frequency'] if median_class_index > 0 else 0\n",
        "f = median_class_row['Frequency'] # Frequency of the median class\n",
        "w = int(median_class_row['Score_Range'].split('-')[1]) - L # Class width\n",
        "\n",
        "# Median formula for grouped data: Median = L + [((n/2) - cf_p) / f] * w\n",
        "median_grouped = L + (((n/2) - cf_p) / f) * w\n",
        "\n",
        "print(f\"Median of Grouped Data: {median_grouped}\")\n",
        "print(\"-\" * 30)\n",
        "\n",
        "\n",
        "# --- Calculate the Mode of Grouped Data ---\n",
        "# The mode is the value that appears most frequently. For grouped data, we find the modal class (the class with the highest frequency).\n",
        "\n",
        "# Find the modal class (class with the highest frequency)\n",
        "modal_class_row = df_grouped.loc[df_grouped['Frequency'].idxmax()]\n",
        "\n",
        "# Extract information for the mode formula\n",
        "L_mode = int(modal_class_row['Score_Range'].split('-')[0]) # Lower boundary of the modal class\n",
        "f_m = modal_class_row['Frequency'] # Frequency of the modal class\n",
        "f_p = df_grouped.loc[modal_class_row.index - 1, 'Frequency'] if modal_class_row.index > 0 else 0 # Frequency of the class preceding the modal class\n",
        "f_s = df_grouped.loc[modal_class_row.index + 1, 'Frequency'] if modal_class_row.index < len(df_grouped) - 1 else 0 # Frequency of the class succeeding the modal class\n",
        "w_mode = int(modal_class_row['Score_Range'].split('-')[1]) - L_mode # Class width\n",
        "\n",
        "# Mode formula for grouped data: Mode = L + [(f_m - f_p) / ((f_m - f_p) + (f_m - f_s))] * w\n",
        "# Ensure the denominator is not zero\n",
        "denominator = (f_m - f_p) + (f_m - f_s)\n",
        "if denominator != 0:\n",
        "    mode_grouped = L_mode + ((f_m - f_p) / denominator) * w_mode\n",
        "else:\n",
        "    mode_grouped = \"Undefined (modal class has equal frequency to adjacent classes)\"\n",
        "\n",
        "\n",
        "print(f\"Mode of Grouped Data: {mode_grouped}\")\n",
        "print(\"-\" * 30)"
      ],
      "execution_count": 4,
      "outputs": [
        {
          "output_type": "stream",
          "name": "stdout",
          "text": [
            "Grouped Data:\n"
          ]
        },
        {
          "output_type": "display_data",
          "data": {
            "text/plain": [
              "  Score_Range  Frequency\n",
              "0        0-10          2\n",
              "1       10-20          5\n",
              "2       20-30          8\n",
              "3       30-40         12\n",
              "4       40-50         15\n",
              "5       50-60         10\n",
              "6       60-70          7\n",
              "7       70-80          5\n",
              "8       80-90          3\n",
              "9      90-100          1"
            ],
            "text/html": [
              "\n",
              "  <div id=\"df-809b7af4-24be-4a0b-b25f-8e554c698c5d\" class=\"colab-df-container\">\n",
              "    <div>\n",
              "<style scoped>\n",
              "    .dataframe tbody tr th:only-of-type {\n",
              "        vertical-align: middle;\n",
              "    }\n",
              "\n",
              "    .dataframe tbody tr th {\n",
              "        vertical-align: top;\n",
              "    }\n",
              "\n",
              "    .dataframe thead th {\n",
              "        text-align: right;\n",
              "    }\n",
              "</style>\n",
              "<table border=\"1\" class=\"dataframe\">\n",
              "  <thead>\n",
              "    <tr style=\"text-align: right;\">\n",
              "      <th></th>\n",
              "      <th>Score_Range</th>\n",
              "      <th>Frequency</th>\n",
              "    </tr>\n",
              "  </thead>\n",
              "  <tbody>\n",
              "    <tr>\n",
              "      <th>0</th>\n",
              "      <td>0-10</td>\n",
              "      <td>2</td>\n",
              "    </tr>\n",
              "    <tr>\n",
              "      <th>1</th>\n",
              "      <td>10-20</td>\n",
              "      <td>5</td>\n",
              "    </tr>\n",
              "    <tr>\n",
              "      <th>2</th>\n",
              "      <td>20-30</td>\n",
              "      <td>8</td>\n",
              "    </tr>\n",
              "    <tr>\n",
              "      <th>3</th>\n",
              "      <td>30-40</td>\n",
              "      <td>12</td>\n",
              "    </tr>\n",
              "    <tr>\n",
              "      <th>4</th>\n",
              "      <td>40-50</td>\n",
              "      <td>15</td>\n",
              "    </tr>\n",
              "    <tr>\n",
              "      <th>5</th>\n",
              "      <td>50-60</td>\n",
              "      <td>10</td>\n",
              "    </tr>\n",
              "    <tr>\n",
              "      <th>6</th>\n",
              "      <td>60-70</td>\n",
              "      <td>7</td>\n",
              "    </tr>\n",
              "    <tr>\n",
              "      <th>7</th>\n",
              "      <td>70-80</td>\n",
              "      <td>5</td>\n",
              "    </tr>\n",
              "    <tr>\n",
              "      <th>8</th>\n",
              "      <td>80-90</td>\n",
              "      <td>3</td>\n",
              "    </tr>\n",
              "    <tr>\n",
              "      <th>9</th>\n",
              "      <td>90-100</td>\n",
              "      <td>1</td>\n",
              "    </tr>\n",
              "  </tbody>\n",
              "</table>\n",
              "</div>\n",
              "    <div class=\"colab-df-buttons\">\n",
              "\n",
              "  <div class=\"colab-df-container\">\n",
              "    <button class=\"colab-df-convert\" onclick=\"convertToInteractive('df-809b7af4-24be-4a0b-b25f-8e554c698c5d')\"\n",
              "            title=\"Convert this dataframe to an interactive table.\"\n",
              "            style=\"display:none;\">\n",
              "\n",
              "  <svg xmlns=\"http://www.w3.org/2000/svg\" height=\"24px\" viewBox=\"0 -960 960 960\">\n",
              "    <path d=\"M120-120v-720h720v720H120Zm60-500h600v-160H180v160Zm220 220h160v-160H400v160Zm0 220h160v-160H400v160ZM180-400h160v-160H180v160Zm440 0h160v-160H620v160ZM180-180h160v-160H180v160Zm440 0h160v-160H620v160Z\"/>\n",
              "  </svg>\n",
              "    </button>\n",
              "\n",
              "  <style>\n",
              "    .colab-df-container {\n",
              "      display:flex;\n",
              "      gap: 12px;\n",
              "    }\n",
              "\n",
              "    .colab-df-convert {\n",
              "      background-color: #E8F0FE;\n",
              "      border: none;\n",
              "      border-radius: 50%;\n",
              "      cursor: pointer;\n",
              "      display: none;\n",
              "      fill: #1967D2;\n",
              "      height: 32px;\n",
              "      padding: 0 0 0 0;\n",
              "      width: 32px;\n",
              "    }\n",
              "\n",
              "    .colab-df-convert:hover {\n",
              "      background-color: #E2EBFA;\n",
              "      box-shadow: 0px 1px 2px rgba(60, 64, 67, 0.3), 0px 1px 3px 1px rgba(60, 64, 67, 0.15);\n",
              "      fill: #174EA6;\n",
              "    }\n",
              "\n",
              "    .colab-df-buttons div {\n",
              "      margin-bottom: 4px;\n",
              "    }\n",
              "\n",
              "    [theme=dark] .colab-df-convert {\n",
              "      background-color: #3B4455;\n",
              "      fill: #D2E3FC;\n",
              "    }\n",
              "\n",
              "    [theme=dark] .colab-df-convert:hover {\n",
              "      background-color: #434B5C;\n",
              "      box-shadow: 0px 1px 3px 1px rgba(0, 0, 0, 0.15);\n",
              "      filter: drop-shadow(0px 1px 2px rgba(0, 0, 0, 0.3));\n",
              "      fill: #FFFFFF;\n",
              "    }\n",
              "  </style>\n",
              "\n",
              "    <script>\n",
              "      const buttonEl =\n",
              "        document.querySelector('#df-809b7af4-24be-4a0b-b25f-8e554c698c5d button.colab-df-convert');\n",
              "      buttonEl.style.display =\n",
              "        google.colab.kernel.accessAllowed ? 'block' : 'none';\n",
              "\n",
              "      async function convertToInteractive(key) {\n",
              "        const element = document.querySelector('#df-809b7af4-24be-4a0b-b25f-8e554c698c5d');\n",
              "        const dataTable =\n",
              "          await google.colab.kernel.invokeFunction('convertToInteractive',\n",
              "                                                    [key], {});\n",
              "        if (!dataTable) return;\n",
              "\n",
              "        const docLinkHtml = 'Like what you see? Visit the ' +\n",
              "          '<a target=\"_blank\" href=https://colab.research.google.com/notebooks/data_table.ipynb>data table notebook</a>'\n",
              "          + ' to learn more about interactive tables.';\n",
              "        element.innerHTML = '';\n",
              "        dataTable['output_type'] = 'display_data';\n",
              "        await google.colab.output.renderOutput(dataTable, element);\n",
              "        const docLink = document.createElement('div');\n",
              "        docLink.innerHTML = docLinkHtml;\n",
              "        element.appendChild(docLink);\n",
              "      }\n",
              "    </script>\n",
              "  </div>\n",
              "\n",
              "\n",
              "    <div id=\"df-8bf5840c-e979-4b06-9477-ebd7a05be450\">\n",
              "      <button class=\"colab-df-quickchart\" onclick=\"quickchart('df-8bf5840c-e979-4b06-9477-ebd7a05be450')\"\n",
              "                title=\"Suggest charts\"\n",
              "                style=\"display:none;\">\n",
              "\n",
              "<svg xmlns=\"http://www.w3.org/2000/svg\" height=\"24px\"viewBox=\"0 0 24 24\"\n",
              "     width=\"24px\">\n",
              "    <g>\n",
              "        <path d=\"M19 3H5c-1.1 0-2 .9-2 2v14c0 1.1.9 2 2 2h14c1.1 0 2-.9 2-2V5c0-1.1-.9-2-2-2zM9 17H7v-7h2v7zm4 0h-2V7h2v10zm4 0h-2v-4h2v4z\"/>\n",
              "    </g>\n",
              "</svg>\n",
              "      </button>\n",
              "\n",
              "<style>\n",
              "  .colab-df-quickchart {\n",
              "      --bg-color: #E8F0FE;\n",
              "      --fill-color: #1967D2;\n",
              "      --hover-bg-color: #E2EBFA;\n",
              "      --hover-fill-color: #174EA6;\n",
              "      --disabled-fill-color: #AAA;\n",
              "      --disabled-bg-color: #DDD;\n",
              "  }\n",
              "\n",
              "  [theme=dark] .colab-df-quickchart {\n",
              "      --bg-color: #3B4455;\n",
              "      --fill-color: #D2E3FC;\n",
              "      --hover-bg-color: #434B5C;\n",
              "      --hover-fill-color: #FFFFFF;\n",
              "      --disabled-bg-color: #3B4455;\n",
              "      --disabled-fill-color: #666;\n",
              "  }\n",
              "\n",
              "  .colab-df-quickchart {\n",
              "    background-color: var(--bg-color);\n",
              "    border: none;\n",
              "    border-radius: 50%;\n",
              "    cursor: pointer;\n",
              "    display: none;\n",
              "    fill: var(--fill-color);\n",
              "    height: 32px;\n",
              "    padding: 0;\n",
              "    width: 32px;\n",
              "  }\n",
              "\n",
              "  .colab-df-quickchart:hover {\n",
              "    background-color: var(--hover-bg-color);\n",
              "    box-shadow: 0 1px 2px rgba(60, 64, 67, 0.3), 0 1px 3px 1px rgba(60, 64, 67, 0.15);\n",
              "    fill: var(--button-hover-fill-color);\n",
              "  }\n",
              "\n",
              "  .colab-df-quickchart-complete:disabled,\n",
              "  .colab-df-quickchart-complete:disabled:hover {\n",
              "    background-color: var(--disabled-bg-color);\n",
              "    fill: var(--disabled-fill-color);\n",
              "    box-shadow: none;\n",
              "  }\n",
              "\n",
              "  .colab-df-spinner {\n",
              "    border: 2px solid var(--fill-color);\n",
              "    border-color: transparent;\n",
              "    border-bottom-color: var(--fill-color);\n",
              "    animation:\n",
              "      spin 1s steps(1) infinite;\n",
              "  }\n",
              "\n",
              "  @keyframes spin {\n",
              "    0% {\n",
              "      border-color: transparent;\n",
              "      border-bottom-color: var(--fill-color);\n",
              "      border-left-color: var(--fill-color);\n",
              "    }\n",
              "    20% {\n",
              "      border-color: transparent;\n",
              "      border-left-color: var(--fill-color);\n",
              "      border-top-color: var(--fill-color);\n",
              "    }\n",
              "    30% {\n",
              "      border-color: transparent;\n",
              "      border-left-color: var(--fill-color);\n",
              "      border-top-color: var(--fill-color);\n",
              "      border-right-color: var(--fill-color);\n",
              "    }\n",
              "    40% {\n",
              "      border-color: transparent;\n",
              "      border-right-color: var(--fill-color);\n",
              "      border-top-color: var(--fill-color);\n",
              "    }\n",
              "    60% {\n",
              "      border-color: transparent;\n",
              "      border-right-color: var(--fill-color);\n",
              "    }\n",
              "    80% {\n",
              "      border-color: transparent;\n",
              "      border-right-color: var(--fill-color);\n",
              "      border-bottom-color: var(--fill-color);\n",
              "    }\n",
              "    90% {\n",
              "      border-color: transparent;\n",
              "      border-bottom-color: var(--fill-color);\n",
              "    }\n",
              "  }\n",
              "</style>\n",
              "\n",
              "      <script>\n",
              "        async function quickchart(key) {\n",
              "          const quickchartButtonEl =\n",
              "            document.querySelector('#' + key + ' button');\n",
              "          quickchartButtonEl.disabled = true;  // To prevent multiple clicks.\n",
              "          quickchartButtonEl.classList.add('colab-df-spinner');\n",
              "          try {\n",
              "            const charts = await google.colab.kernel.invokeFunction(\n",
              "                'suggestCharts', [key], {});\n",
              "          } catch (error) {\n",
              "            console.error('Error during call to suggestCharts:', error);\n",
              "          }\n",
              "          quickchartButtonEl.classList.remove('colab-df-spinner');\n",
              "          quickchartButtonEl.classList.add('colab-df-quickchart-complete');\n",
              "        }\n",
              "        (() => {\n",
              "          let quickchartButtonEl =\n",
              "            document.querySelector('#df-8bf5840c-e979-4b06-9477-ebd7a05be450 button');\n",
              "          quickchartButtonEl.style.display =\n",
              "            google.colab.kernel.accessAllowed ? 'block' : 'none';\n",
              "        })();\n",
              "      </script>\n",
              "    </div>\n",
              "\n",
              "  <div id=\"id_14dfe4ea-535d-476d-b431-25c6fa682a21\">\n",
              "    <style>\n",
              "      .colab-df-generate {\n",
              "        background-color: #E8F0FE;\n",
              "        border: none;\n",
              "        border-radius: 50%;\n",
              "        cursor: pointer;\n",
              "        display: none;\n",
              "        fill: #1967D2;\n",
              "        height: 32px;\n",
              "        padding: 0 0 0 0;\n",
              "        width: 32px;\n",
              "      }\n",
              "\n",
              "      .colab-df-generate:hover {\n",
              "        background-color: #E2EBFA;\n",
              "        box-shadow: 0px 1px 2px rgba(60, 64, 67, 0.3), 0px 1px 3px 1px rgba(60, 64, 67, 0.15);\n",
              "        fill: #174EA6;\n",
              "      }\n",
              "\n",
              "      [theme=dark] .colab-df-generate {\n",
              "        background-color: #3B4455;\n",
              "        fill: #D2E3FC;\n",
              "      }\n",
              "\n",
              "      [theme=dark] .colab-df-generate:hover {\n",
              "        background-color: #434B5C;\n",
              "        box-shadow: 0px 1px 3px 1px rgba(0, 0, 0, 0.15);\n",
              "        filter: drop-shadow(0px 1px 2px rgba(0, 0, 0, 0.3));\n",
              "        fill: #FFFFFF;\n",
              "      }\n",
              "    </style>\n",
              "    <button class=\"colab-df-generate\" onclick=\"generateWithVariable('df_grouped')\"\n",
              "            title=\"Generate code using this dataframe.\"\n",
              "            style=\"display:none;\">\n",
              "\n",
              "  <svg xmlns=\"http://www.w3.org/2000/svg\" height=\"24px\"viewBox=\"0 0 24 24\"\n",
              "       width=\"24px\">\n",
              "    <path d=\"M7,19H8.4L18.45,9,17,7.55,7,17.6ZM5,21V16.75L18.45,3.32a2,2,0,0,1,2.83,0l1.4,1.43a1.91,1.91,0,0,1,.58,1.4,1.91,1.91,0,0,1-.58,1.4L9.25,21ZM18.45,9,17,7.55Zm-12,3A5.31,5.31,0,0,0,4.9,8.1,5.31,5.31,0,0,0,1,6.5,5.31,5.31,0,0,0,4.9,4.9,5.31,5.31,0,0,0,6.5,1,5.31,5.31,0,0,0,8.1,4.9,5.31,5.31,0,0,0,12,6.5,5.46,5.46,0,0,0,6.5,12Z\"/>\n",
              "  </svg>\n",
              "    </button>\n",
              "    <script>\n",
              "      (() => {\n",
              "      const buttonEl =\n",
              "        document.querySelector('#id_14dfe4ea-535d-476d-b431-25c6fa682a21 button.colab-df-generate');\n",
              "      buttonEl.style.display =\n",
              "        google.colab.kernel.accessAllowed ? 'block' : 'none';\n",
              "\n",
              "      buttonEl.onclick = () => {\n",
              "        google.colab.notebook.generateWithVariable('df_grouped');\n",
              "      }\n",
              "      })();\n",
              "    </script>\n",
              "  </div>\n",
              "\n",
              "    </div>\n",
              "  </div>\n"
            ],
            "application/vnd.google.colaboratory.intrinsic+json": {
              "type": "dataframe",
              "variable_name": "df_grouped",
              "summary": "{\n  \"name\": \"df_grouped\",\n  \"rows\": 10,\n  \"fields\": [\n    {\n      \"column\": \"Score_Range\",\n      \"properties\": {\n        \"dtype\": \"string\",\n        \"num_unique_values\": 10,\n        \"samples\": [\n          \"80-90\",\n          \"10-20\",\n          \"50-60\"\n        ],\n        \"semantic_type\": \"\",\n        \"description\": \"\"\n      }\n    },\n    {\n      \"column\": \"Frequency\",\n      \"properties\": {\n        \"dtype\": \"number\",\n        \"std\": 4,\n        \"min\": 1,\n        \"max\": 15,\n        \"num_unique_values\": 9,\n        \"samples\": [\n          3,\n          5,\n          10\n        ],\n        \"semantic_type\": \"\",\n        \"description\": \"\"\n      }\n    }\n  ]\n}"
            }
          },
          "metadata": {}
        },
        {
          "output_type": "stream",
          "name": "stdout",
          "text": [
            "------------------------------\n",
            "Mean of Grouped Data: 45.73529411764706\n",
            "------------------------------\n",
            "Data with Cumulative Frequency:\n"
          ]
        },
        {
          "output_type": "display_data",
          "data": {
            "text/plain": [
              "  Score_Range  Frequency  Midpoint  Freq_x_Midpoint  Cumulative_Frequency\n",
              "0        0-10          2         5               10                     2\n",
              "1       10-20          5        15               75                     7\n",
              "2       20-30          8        25              200                    15\n",
              "3       30-40         12        35              420                    27\n",
              "4       40-50         15        45              675                    42\n",
              "5       50-60         10        55              550                    52\n",
              "6       60-70          7        65              455                    59\n",
              "7       70-80          5        75              375                    64\n",
              "8       80-90          3        85              255                    67\n",
              "9      90-100          1        95               95                    68"
            ],
            "text/html": [
              "\n",
              "  <div id=\"df-c1a41346-4782-4791-93f9-a6c07f04ee07\" class=\"colab-df-container\">\n",
              "    <div>\n",
              "<style scoped>\n",
              "    .dataframe tbody tr th:only-of-type {\n",
              "        vertical-align: middle;\n",
              "    }\n",
              "\n",
              "    .dataframe tbody tr th {\n",
              "        vertical-align: top;\n",
              "    }\n",
              "\n",
              "    .dataframe thead th {\n",
              "        text-align: right;\n",
              "    }\n",
              "</style>\n",
              "<table border=\"1\" class=\"dataframe\">\n",
              "  <thead>\n",
              "    <tr style=\"text-align: right;\">\n",
              "      <th></th>\n",
              "      <th>Score_Range</th>\n",
              "      <th>Frequency</th>\n",
              "      <th>Midpoint</th>\n",
              "      <th>Freq_x_Midpoint</th>\n",
              "      <th>Cumulative_Frequency</th>\n",
              "    </tr>\n",
              "  </thead>\n",
              "  <tbody>\n",
              "    <tr>\n",
              "      <th>0</th>\n",
              "      <td>0-10</td>\n",
              "      <td>2</td>\n",
              "      <td>5</td>\n",
              "      <td>10</td>\n",
              "      <td>2</td>\n",
              "    </tr>\n",
              "    <tr>\n",
              "      <th>1</th>\n",
              "      <td>10-20</td>\n",
              "      <td>5</td>\n",
              "      <td>15</td>\n",
              "      <td>75</td>\n",
              "      <td>7</td>\n",
              "    </tr>\n",
              "    <tr>\n",
              "      <th>2</th>\n",
              "      <td>20-30</td>\n",
              "      <td>8</td>\n",
              "      <td>25</td>\n",
              "      <td>200</td>\n",
              "      <td>15</td>\n",
              "    </tr>\n",
              "    <tr>\n",
              "      <th>3</th>\n",
              "      <td>30-40</td>\n",
              "      <td>12</td>\n",
              "      <td>35</td>\n",
              "      <td>420</td>\n",
              "      <td>27</td>\n",
              "    </tr>\n",
              "    <tr>\n",
              "      <th>4</th>\n",
              "      <td>40-50</td>\n",
              "      <td>15</td>\n",
              "      <td>45</td>\n",
              "      <td>675</td>\n",
              "      <td>42</td>\n",
              "    </tr>\n",
              "    <tr>\n",
              "      <th>5</th>\n",
              "      <td>50-60</td>\n",
              "      <td>10</td>\n",
              "      <td>55</td>\n",
              "      <td>550</td>\n",
              "      <td>52</td>\n",
              "    </tr>\n",
              "    <tr>\n",
              "      <th>6</th>\n",
              "      <td>60-70</td>\n",
              "      <td>7</td>\n",
              "      <td>65</td>\n",
              "      <td>455</td>\n",
              "      <td>59</td>\n",
              "    </tr>\n",
              "    <tr>\n",
              "      <th>7</th>\n",
              "      <td>70-80</td>\n",
              "      <td>5</td>\n",
              "      <td>75</td>\n",
              "      <td>375</td>\n",
              "      <td>64</td>\n",
              "    </tr>\n",
              "    <tr>\n",
              "      <th>8</th>\n",
              "      <td>80-90</td>\n",
              "      <td>3</td>\n",
              "      <td>85</td>\n",
              "      <td>255</td>\n",
              "      <td>67</td>\n",
              "    </tr>\n",
              "    <tr>\n",
              "      <th>9</th>\n",
              "      <td>90-100</td>\n",
              "      <td>1</td>\n",
              "      <td>95</td>\n",
              "      <td>95</td>\n",
              "      <td>68</td>\n",
              "    </tr>\n",
              "  </tbody>\n",
              "</table>\n",
              "</div>\n",
              "    <div class=\"colab-df-buttons\">\n",
              "\n",
              "  <div class=\"colab-df-container\">\n",
              "    <button class=\"colab-df-convert\" onclick=\"convertToInteractive('df-c1a41346-4782-4791-93f9-a6c07f04ee07')\"\n",
              "            title=\"Convert this dataframe to an interactive table.\"\n",
              "            style=\"display:none;\">\n",
              "\n",
              "  <svg xmlns=\"http://www.w3.org/2000/svg\" height=\"24px\" viewBox=\"0 -960 960 960\">\n",
              "    <path d=\"M120-120v-720h720v720H120Zm60-500h600v-160H180v160Zm220 220h160v-160H400v160Zm0 220h160v-160H400v160ZM180-400h160v-160H180v160Zm440 0h160v-160H620v160ZM180-180h160v-160H180v160Zm440 0h160v-160H620v160Z\"/>\n",
              "  </svg>\n",
              "    </button>\n",
              "\n",
              "  <style>\n",
              "    .colab-df-container {\n",
              "      display:flex;\n",
              "      gap: 12px;\n",
              "    }\n",
              "\n",
              "    .colab-df-convert {\n",
              "      background-color: #E8F0FE;\n",
              "      border: none;\n",
              "      border-radius: 50%;\n",
              "      cursor: pointer;\n",
              "      display: none;\n",
              "      fill: #1967D2;\n",
              "      height: 32px;\n",
              "      padding: 0 0 0 0;\n",
              "      width: 32px;\n",
              "    }\n",
              "\n",
              "    .colab-df-convert:hover {\n",
              "      background-color: #E2EBFA;\n",
              "      box-shadow: 0px 1px 2px rgba(60, 64, 67, 0.3), 0px 1px 3px 1px rgba(60, 64, 67, 0.15);\n",
              "      fill: #174EA6;\n",
              "    }\n",
              "\n",
              "    .colab-df-buttons div {\n",
              "      margin-bottom: 4px;\n",
              "    }\n",
              "\n",
              "    [theme=dark] .colab-df-convert {\n",
              "      background-color: #3B4455;\n",
              "      fill: #D2E3FC;\n",
              "    }\n",
              "\n",
              "    [theme=dark] .colab-df-convert:hover {\n",
              "      background-color: #434B5C;\n",
              "      box-shadow: 0px 1px 3px 1px rgba(0, 0, 0, 0.15);\n",
              "      filter: drop-shadow(0px 1px 2px rgba(0, 0, 0, 0.3));\n",
              "      fill: #FFFFFF;\n",
              "    }\n",
              "  </style>\n",
              "\n",
              "    <script>\n",
              "      const buttonEl =\n",
              "        document.querySelector('#df-c1a41346-4782-4791-93f9-a6c07f04ee07 button.colab-df-convert');\n",
              "      buttonEl.style.display =\n",
              "        google.colab.kernel.accessAllowed ? 'block' : 'none';\n",
              "\n",
              "      async function convertToInteractive(key) {\n",
              "        const element = document.querySelector('#df-c1a41346-4782-4791-93f9-a6c07f04ee07');\n",
              "        const dataTable =\n",
              "          await google.colab.kernel.invokeFunction('convertToInteractive',\n",
              "                                                    [key], {});\n",
              "        if (!dataTable) return;\n",
              "\n",
              "        const docLinkHtml = 'Like what you see? Visit the ' +\n",
              "          '<a target=\"_blank\" href=https://colab.research.google.com/notebooks/data_table.ipynb>data table notebook</a>'\n",
              "          + ' to learn more about interactive tables.';\n",
              "        element.innerHTML = '';\n",
              "        dataTable['output_type'] = 'display_data';\n",
              "        await google.colab.output.renderOutput(dataTable, element);\n",
              "        const docLink = document.createElement('div');\n",
              "        docLink.innerHTML = docLinkHtml;\n",
              "        element.appendChild(docLink);\n",
              "      }\n",
              "    </script>\n",
              "  </div>\n",
              "\n",
              "\n",
              "    <div id=\"df-3d7dc4b7-9f92-4a88-b2d5-6b8da04eb0fd\">\n",
              "      <button class=\"colab-df-quickchart\" onclick=\"quickchart('df-3d7dc4b7-9f92-4a88-b2d5-6b8da04eb0fd')\"\n",
              "                title=\"Suggest charts\"\n",
              "                style=\"display:none;\">\n",
              "\n",
              "<svg xmlns=\"http://www.w3.org/2000/svg\" height=\"24px\"viewBox=\"0 0 24 24\"\n",
              "     width=\"24px\">\n",
              "    <g>\n",
              "        <path d=\"M19 3H5c-1.1 0-2 .9-2 2v14c0 1.1.9 2 2 2h14c1.1 0 2-.9 2-2V5c0-1.1-.9-2-2-2zM9 17H7v-7h2v7zm4 0h-2V7h2v10zm4 0h-2v-4h2v4z\"/>\n",
              "    </g>\n",
              "</svg>\n",
              "      </button>\n",
              "\n",
              "<style>\n",
              "  .colab-df-quickchart {\n",
              "      --bg-color: #E8F0FE;\n",
              "      --fill-color: #1967D2;\n",
              "      --hover-bg-color: #E2EBFA;\n",
              "      --hover-fill-color: #174EA6;\n",
              "      --disabled-fill-color: #AAA;\n",
              "      --disabled-bg-color: #DDD;\n",
              "  }\n",
              "\n",
              "  [theme=dark] .colab-df-quickchart {\n",
              "      --bg-color: #3B4455;\n",
              "      --fill-color: #D2E3FC;\n",
              "      --hover-bg-color: #434B5C;\n",
              "      --hover-fill-color: #FFFFFF;\n",
              "      --disabled-bg-color: #3B4455;\n",
              "      --disabled-fill-color: #666;\n",
              "  }\n",
              "\n",
              "  .colab-df-quickchart {\n",
              "    background-color: var(--bg-color);\n",
              "    border: none;\n",
              "    border-radius: 50%;\n",
              "    cursor: pointer;\n",
              "    display: none;\n",
              "    fill: var(--fill-color);\n",
              "    height: 32px;\n",
              "    padding: 0;\n",
              "    width: 32px;\n",
              "  }\n",
              "\n",
              "  .colab-df-quickchart:hover {\n",
              "    background-color: var(--hover-bg-color);\n",
              "    box-shadow: 0 1px 2px rgba(60, 64, 67, 0.3), 0 1px 3px 1px rgba(60, 64, 67, 0.15);\n",
              "    fill: var(--button-hover-fill-color);\n",
              "  }\n",
              "\n",
              "  .colab-df-quickchart-complete:disabled,\n",
              "  .colab-df-quickchart-complete:disabled:hover {\n",
              "    background-color: var(--disabled-bg-color);\n",
              "    fill: var(--disabled-fill-color);\n",
              "    box-shadow: none;\n",
              "  }\n",
              "\n",
              "  .colab-df-spinner {\n",
              "    border: 2px solid var(--fill-color);\n",
              "    border-color: transparent;\n",
              "    border-bottom-color: var(--fill-color);\n",
              "    animation:\n",
              "      spin 1s steps(1) infinite;\n",
              "  }\n",
              "\n",
              "  @keyframes spin {\n",
              "    0% {\n",
              "      border-color: transparent;\n",
              "      border-bottom-color: var(--fill-color);\n",
              "      border-left-color: var(--fill-color);\n",
              "    }\n",
              "    20% {\n",
              "      border-color: transparent;\n",
              "      border-left-color: var(--fill-color);\n",
              "      border-top-color: var(--fill-color);\n",
              "    }\n",
              "    30% {\n",
              "      border-color: transparent;\n",
              "      border-left-color: var(--fill-color);\n",
              "      border-top-color: var(--fill-color);\n",
              "      border-right-color: var(--fill-color);\n",
              "    }\n",
              "    40% {\n",
              "      border-color: transparent;\n",
              "      border-right-color: var(--fill-color);\n",
              "      border-top-color: var(--fill-color);\n",
              "    }\n",
              "    60% {\n",
              "      border-color: transparent;\n",
              "      border-right-color: var(--fill-color);\n",
              "    }\n",
              "    80% {\n",
              "      border-color: transparent;\n",
              "      border-right-color: var(--fill-color);\n",
              "      border-bottom-color: var(--fill-color);\n",
              "    }\n",
              "    90% {\n",
              "      border-color: transparent;\n",
              "      border-bottom-color: var(--fill-color);\n",
              "    }\n",
              "  }\n",
              "</style>\n",
              "\n",
              "      <script>\n",
              "        async function quickchart(key) {\n",
              "          const quickchartButtonEl =\n",
              "            document.querySelector('#' + key + ' button');\n",
              "          quickchartButtonEl.disabled = true;  // To prevent multiple clicks.\n",
              "          quickchartButtonEl.classList.add('colab-df-spinner');\n",
              "          try {\n",
              "            const charts = await google.colab.kernel.invokeFunction(\n",
              "                'suggestCharts', [key], {});\n",
              "          } catch (error) {\n",
              "            console.error('Error during call to suggestCharts:', error);\n",
              "          }\n",
              "          quickchartButtonEl.classList.remove('colab-df-spinner');\n",
              "          quickchartButtonEl.classList.add('colab-df-quickchart-complete');\n",
              "        }\n",
              "        (() => {\n",
              "          let quickchartButtonEl =\n",
              "            document.querySelector('#df-3d7dc4b7-9f92-4a88-b2d5-6b8da04eb0fd button');\n",
              "          quickchartButtonEl.style.display =\n",
              "            google.colab.kernel.accessAllowed ? 'block' : 'none';\n",
              "        })();\n",
              "      </script>\n",
              "    </div>\n",
              "\n",
              "  <div id=\"id_ca387117-07a3-4597-a5de-e07054fd7bc0\">\n",
              "    <style>\n",
              "      .colab-df-generate {\n",
              "        background-color: #E8F0FE;\n",
              "        border: none;\n",
              "        border-radius: 50%;\n",
              "        cursor: pointer;\n",
              "        display: none;\n",
              "        fill: #1967D2;\n",
              "        height: 32px;\n",
              "        padding: 0 0 0 0;\n",
              "        width: 32px;\n",
              "      }\n",
              "\n",
              "      .colab-df-generate:hover {\n",
              "        background-color: #E2EBFA;\n",
              "        box-shadow: 0px 1px 2px rgba(60, 64, 67, 0.3), 0px 1px 3px 1px rgba(60, 64, 67, 0.15);\n",
              "        fill: #174EA6;\n",
              "      }\n",
              "\n",
              "      [theme=dark] .colab-df-generate {\n",
              "        background-color: #3B4455;\n",
              "        fill: #D2E3FC;\n",
              "      }\n",
              "\n",
              "      [theme=dark] .colab-df-generate:hover {\n",
              "        background-color: #434B5C;\n",
              "        box-shadow: 0px 1px 3px 1px rgba(0, 0, 0, 0.15);\n",
              "        filter: drop-shadow(0px 1px 2px rgba(0, 0, 0, 0.3));\n",
              "        fill: #FFFFFF;\n",
              "      }\n",
              "    </style>\n",
              "    <button class=\"colab-df-generate\" onclick=\"generateWithVariable('df_grouped')\"\n",
              "            title=\"Generate code using this dataframe.\"\n",
              "            style=\"display:none;\">\n",
              "\n",
              "  <svg xmlns=\"http://www.w3.org/2000/svg\" height=\"24px\"viewBox=\"0 0 24 24\"\n",
              "       width=\"24px\">\n",
              "    <path d=\"M7,19H8.4L18.45,9,17,7.55,7,17.6ZM5,21V16.75L18.45,3.32a2,2,0,0,1,2.83,0l1.4,1.43a1.91,1.91,0,0,1,.58,1.4,1.91,1.91,0,0,1-.58,1.4L9.25,21ZM18.45,9,17,7.55Zm-12,3A5.31,5.31,0,0,0,4.9,8.1,5.31,5.31,0,0,0,1,6.5,5.31,5.31,0,0,0,4.9,4.9,5.31,5.31,0,0,0,6.5,1,5.31,5.31,0,0,0,8.1,4.9,5.31,5.31,0,0,0,12,6.5,5.46,5.46,0,0,0,6.5,12Z\"/>\n",
              "  </svg>\n",
              "    </button>\n",
              "    <script>\n",
              "      (() => {\n",
              "      const buttonEl =\n",
              "        document.querySelector('#id_ca387117-07a3-4597-a5de-e07054fd7bc0 button.colab-df-generate');\n",
              "      buttonEl.style.display =\n",
              "        google.colab.kernel.accessAllowed ? 'block' : 'none';\n",
              "\n",
              "      buttonEl.onclick = () => {\n",
              "        google.colab.notebook.generateWithVariable('df_grouped');\n",
              "      }\n",
              "      })();\n",
              "    </script>\n",
              "  </div>\n",
              "\n",
              "    </div>\n",
              "  </div>\n"
            ],
            "application/vnd.google.colaboratory.intrinsic+json": {
              "type": "dataframe",
              "variable_name": "df_grouped",
              "summary": "{\n  \"name\": \"df_grouped\",\n  \"rows\": 10,\n  \"fields\": [\n    {\n      \"column\": \"Score_Range\",\n      \"properties\": {\n        \"dtype\": \"string\",\n        \"num_unique_values\": 10,\n        \"samples\": [\n          \"80-90\",\n          \"10-20\",\n          \"50-60\"\n        ],\n        \"semantic_type\": \"\",\n        \"description\": \"\"\n      }\n    },\n    {\n      \"column\": \"Frequency\",\n      \"properties\": {\n        \"dtype\": \"number\",\n        \"std\": 4,\n        \"min\": 1,\n        \"max\": 15,\n        \"num_unique_values\": 9,\n        \"samples\": [\n          3,\n          5,\n          10\n        ],\n        \"semantic_type\": \"\",\n        \"description\": \"\"\n      }\n    },\n    {\n      \"column\": \"Midpoint\",\n      \"properties\": {\n        \"dtype\": \"number\",\n        \"std\": 30,\n        \"min\": 5,\n        \"max\": 95,\n        \"num_unique_values\": 10,\n        \"samples\": [\n          85,\n          15,\n          55\n        ],\n        \"semantic_type\": \"\",\n        \"description\": \"\"\n      }\n    },\n    {\n      \"column\": \"Freq_x_Midpoint\",\n      \"properties\": {\n        \"dtype\": \"number\",\n        \"std\": 219,\n        \"min\": 10,\n        \"max\": 675,\n        \"num_unique_values\": 10,\n        \"samples\": [\n          255,\n          75,\n          550\n        ],\n        \"semantic_type\": \"\",\n        \"description\": \"\"\n      }\n    },\n    {\n      \"column\": \"Cumulative_Frequency\",\n      \"properties\": {\n        \"dtype\": \"number\",\n        \"std\": 25,\n        \"min\": 2,\n        \"max\": 68,\n        \"num_unique_values\": 10,\n        \"samples\": [\n          67,\n          7,\n          52\n        ],\n        \"semantic_type\": \"\",\n        \"description\": \"\"\n      }\n    }\n  ]\n}"
            }
          },
          "metadata": {}
        },
        {
          "output_type": "stream",
          "name": "stdout",
          "text": [
            "------------------------------\n"
          ]
        },
        {
          "output_type": "error",
          "ename": "AttributeError",
          "evalue": "module 'pandas' has no attribute 'Int64Index'",
          "traceback": [
            "\u001b[0;31m---------------------------------------------------------------------------\u001b[0m",
            "\u001b[0;31mAttributeError\u001b[0m                            Traceback (most recent call last)",
            "\u001b[0;32m/tmp/ipython-input-4-4208046287.py\u001b[0m in \u001b[0;36m<cell line: 0>\u001b[0;34m()\u001b[0m\n\u001b[1;32m     58\u001b[0m \u001b[0mn\u001b[0m \u001b[0;34m=\u001b[0m \u001b[0mtotal_frequency\u001b[0m\u001b[0;34m\u001b[0m\u001b[0;34m\u001b[0m\u001b[0m\n\u001b[1;32m     59\u001b[0m \u001b[0;31m# Get the index of the median class row\u001b[0m\u001b[0;34m\u001b[0m\u001b[0;34m\u001b[0m\u001b[0m\n\u001b[0;32m---> 60\u001b[0;31m \u001b[0mmedian_class_index\u001b[0m \u001b[0;34m=\u001b[0m \u001b[0mmedian_class_row\u001b[0m\u001b[0;34m.\u001b[0m\u001b[0mindex\u001b[0m\u001b[0;34m[\u001b[0m\u001b[0;36m0\u001b[0m\u001b[0;34m]\u001b[0m \u001b[0;32mif\u001b[0m \u001b[0misinstance\u001b[0m\u001b[0;34m(\u001b[0m\u001b[0mmedian_class_row\u001b[0m\u001b[0;34m.\u001b[0m\u001b[0mindex\u001b[0m\u001b[0;34m,\u001b[0m \u001b[0mpd\u001b[0m\u001b[0;34m.\u001b[0m\u001b[0mInt64Index\u001b[0m\u001b[0;34m)\u001b[0m \u001b[0;32melse\u001b[0m \u001b[0mmedian_class_row\u001b[0m\u001b[0;34m.\u001b[0m\u001b[0mindex\u001b[0m\u001b[0;34m\u001b[0m\u001b[0;34m\u001b[0m\u001b[0m\n\u001b[0m\u001b[1;32m     61\u001b[0m \u001b[0;31m# Cumulative frequency of the class preceding the median class\u001b[0m\u001b[0;34m\u001b[0m\u001b[0;34m\u001b[0m\u001b[0m\n\u001b[1;32m     62\u001b[0m \u001b[0mcf_p\u001b[0m \u001b[0;34m=\u001b[0m \u001b[0mdf_grouped\u001b[0m\u001b[0;34m.\u001b[0m\u001b[0mloc\u001b[0m\u001b[0;34m[\u001b[0m\u001b[0mmedian_class_index\u001b[0m \u001b[0;34m-\u001b[0m \u001b[0;36m1\u001b[0m\u001b[0;34m,\u001b[0m \u001b[0;34m'Cumulative_Frequency'\u001b[0m\u001b[0;34m]\u001b[0m \u001b[0;32mif\u001b[0m \u001b[0mmedian_class_index\u001b[0m \u001b[0;34m>\u001b[0m \u001b[0;36m0\u001b[0m \u001b[0;32melse\u001b[0m \u001b[0;36m0\u001b[0m\u001b[0;34m\u001b[0m\u001b[0;34m\u001b[0m\u001b[0m\n",
            "\u001b[0;31mAttributeError\u001b[0m: module 'pandas' has no attribute 'Int64Index'"
          ]
        }
      ]
    },
    {
      "cell_type": "code",
      "metadata": {
        "colab": {
          "base_uri": "https://localhost:8080/"
        },
        "id": "05708dd1",
        "outputId": "d4715e4d-b114-4cef-e429-d20caf4a409f"
      },
      "source": [
        "#14 Calculate Central Tendency\n",
        "import numpy as np\n",
        "from scipy import stats\n",
        "\n",
        "# Assuming 'simulated_data' is available from the previous step\n",
        "\n",
        "# Calculate the mean\n",
        "mean_simulated = np.mean(simulated_data)\n",
        "print(f\"Mean of simulated data: {mean_simulated}\")\n",
        "\n",
        "# Calculate the median\n",
        "median_simulated = np.median(simulated_data)\n",
        "print(f\"Median of simulated data: {median_simulated}\")\n",
        "\n",
        "# Calculate the mode\n",
        "# For continuous data, the mode might not be a single value.\n",
        "# We can find the most frequent value, or for a distribution, the peak.\n",
        "# For simplicity with continuous data, we can use scipy.stats.mode,\n",
        "# which finds the most frequent value. However, for truly continuous data,\n",
        "# this might not be very informative unless the data is rounded or binned.\n",
        "# If you were working with discrete data, this would be more direct.\n",
        "# Let's calculate it, but be mindful of its interpretation for continuous data.\n",
        "mode_result = stats.mode(simulated_data)\n",
        "mode_simulated = mode_result.mode # Access the mode value\n",
        "mode_count = mode_result.count # Access the count of the mode\n",
        "\n",
        "print(f\"Mode of simulated data: {mode_simulated} (appears {mode_count} times)\")\n",
        "\n",
        "# Note: For continuous data, visualizing the distribution (e.g., with a histogram)\n",
        "# is often more informative for understanding the \"peak\" than a strict mode calculation."
      ],
      "execution_count": 6,
      "outputs": [
        {
          "output_type": "stream",
          "name": "stdout",
          "text": [
            "Mean of simulated data: 50.193320558223256\n",
            "Median of simulated data: 50.25300612234888\n",
            "Mode of simulated data: 17.58732659930927 (appears 1 times)\n"
          ]
        }
      ]
    },
    {
      "cell_type": "code",
      "metadata": {
        "colab": {
          "base_uri": "https://localhost:8080/"
        },
        "id": "53877b54",
        "outputId": "e31989af-0ae4-45e8-e308-1afb207f29bb"
      },
      "source": [
        "#15 Use NumPy or pandas to summarize a dataset’s descriptive statistics\n",
        "import pandas as pd\n",
        "import numpy as np\n",
        "\n",
        "# Assuming 'simulated_data' is available from previous steps\n",
        "# Convert the numpy array to a pandas Series for easy summarization\n",
        "simulated_series = pd.Series(simulated_data)\n",
        "\n",
        "# Generate descriptive statistics summary\n",
        "descriptive_stats = simulated_series.describe()\n",
        "\n",
        "print(\"Descriptive Statistics Summary for Simulated Data:\")\n",
        "print(descriptive_stats)"
      ],
      "execution_count": 7,
      "outputs": [
        {
          "output_type": "stream",
          "name": "stdout",
          "text": [
            "Descriptive Statistics Summary for Simulated Data:\n",
            "count    1000.000000\n",
            "mean       50.193321\n",
            "std         9.792159\n",
            "min        17.587327\n",
            "25%        43.524097\n",
            "50%        50.253006\n",
            "75%        56.479439\n",
            "max        88.527315\n",
            "dtype: float64\n"
          ]
        }
      ]
    },
    {
      "cell_type": "code",
      "metadata": {
        "colab": {
          "base_uri": "https://localhost:8080/",
          "height": 564
        },
        "id": "b71ce611",
        "outputId": "7bc1da21-76e8-41a5-c0dc-544f287c5f82"
      },
      "source": [
        "#16 Plot a boxplot to understand the spread and identify outliers\n",
        "import matplotlib.pyplot as plt\n",
        "import seaborn as sns\n",
        "import numpy as np\n",
        "\n",
        "# Assuming 'simulated_data' is available from previous steps\n",
        "\n",
        "plt.figure(figsize=(8, 6)) # Set the figure size\n",
        "sns.boxplot(x=simulated_data) # Create the boxplot\n",
        "\n",
        "# Add titles and labels\n",
        "plt.title('Boxplot of Simulated Data')\n",
        "plt.xlabel('Value')\n",
        "\n",
        "# Show the plot\n",
        "plt.grid(axis='x', alpha=0.5) # Add a grid\n",
        "plt.show()"
      ],
      "execution_count": 8,
      "outputs": [
        {
          "output_type": "display_data",
          "data": {
            "text/plain": [
              "<Figure size 800x600 with 1 Axes>"
            ],
            "image/png": "[encoded data removed]"
          },
          "metadata": {}
        }
      ]
    },
    {
      "cell_type": "code",
      "metadata": {
        "colab": {
          "base_uri": "https://localhost:8080/"
        },
        "id": "dbf1f463",
        "outputId": "099f38b0-8956-47b1-a389-f7c73361079b"
      },
      "source": [
        "#17 Calculate the interquartile range (IQR) of a dataset\n",
        "import numpy as np\n",
        "\n",
        "# Assuming 'simulated_data' is available from previous steps\n",
        "\n",
        "# Calculate the first quartile (Q1)\n",
        "Q1 = np.percentile(simulated_data, 25)\n",
        "\n",
        "# Calculate the third quartile (Q3)\n",
        "Q3 = np.percentile(simulated_data, 75)\n",
        "\n",
        "# Calculate the Interquartile Range (IQR)\n",
        "IQR = Q3 - Q1\n",
        "\n",
        "print(f\"First Quartile (Q1): {Q1}\")\n",
        "print(f\"Third Quartile (Q3): {Q3}\")\n",
        "print(f\"Interquartile Range (IQR): {IQR}\")"
      ],
      "execution_count": 9,
      "outputs": [
        {
          "output_type": "stream",
          "name": "stdout",
          "text": [
            "First Quartile (Q1): 43.524096945376485\n",
            "Third Quartile (Q3): 56.4794387547293\n",
            "Interquartile Range (IQR): 12.955341809352817\n"
          ]
        }
      ]
    },
    {
      "cell_type": "markdown",
      "source": [
        "18. Implement Z-score normalization and explain its significance?\n",
        "\n",
        "-  Compute:\n",
        "𝑧=𝑥−𝜇𝜎z= σx−μ\n",
        "\n",
        " Purpose: Scale features to the same distribution, improve model fairness and performance\n",
        "\n",
        " Python tools: NumPy, SciPy, scikit-learn"
      ],
      "metadata": {
        "id": "ilh4Xj46kTMW"
      }
    },
    {
      "cell_type": "code",
      "metadata": {
        "colab": {
          "base_uri": "https://localhost:8080/"
        },
        "id": "b9004bb3",
        "outputId": "4b9ee039-8c37-4eaa-b5c4-0fb7ebdd8f90"
      },
      "source": [
        "#19 Compare two datasets using their standard deviations\n",
        "import numpy as np\n",
        "\n",
        "# We have the standard deviation for 'simulated_data' from previous steps.\n",
        "# Let's create a second dataset with a different spread.\n",
        "\n",
        "np.random.seed(100) # for reproducibility\n",
        "# This dataset will have a smaller standard deviation (less spread)\n",
        "simulated_data_2 = np.random.normal(loc=50, scale=5, size=1000)\n",
        "\n",
        "print(\"Simulated Data 2 (first 10 values):\")\n",
        "print(simulated_data_2[:10])\n",
        "print(f\"\\nDataset 2 size: {len(simulated_data_2)}\")\n",
        "print(\"-\" * 30)\n",
        "\n",
        "# Calculate the standard deviation for the second dataset\n",
        "std_dev_simulated_2 = np.std(simulated_data_2)\n",
        "print(f\"Standard deviation of simulated_data_2 (Population): {std_dev_simulated_2}\")\n",
        "\n",
        "# Assuming std_dev_simulated from the previous cell is available\n",
        "# If not, recalculate it:\n",
        "std_dev_simulated_1 = np.std(simulated_data)\n",
        "print(f\"Standard deviation of simulated_data (Population): {std_dev_simulated_1}\")\n",
        "print(\"-\" * 30)\n",
        "\n",
        "# Compare the standard deviations\n",
        "print(\"Comparison of Standard Deviations:\")\n",
        "print(f\"Standard Deviation of Dataset 1: {std_dev_simulated_1}\")\n",
        "print(f\"Standard Deviation of Dataset 2: {std_dev_simulated_2}\")\n",
        "\n",
        "if std_dev_simulated_1 > std_dev_simulated_2:\n",
        "  print(\"Dataset 1 has a larger standard deviation, indicating its data points are more spread out from the mean compared to Dataset 2.\")\n",
        "elif std_dev_simulated_1 < std_dev_simulated_2:\n",
        "   print(\"Dataset 2 has a larger standard deviation, indicating its data points are more spread out from the mean compared to Dataset 1.\")\n",
        "else:\n",
        "  print(\"Both datasets have similar standard deviations, suggesting similar levels of spread.\")"
      ],
      "execution_count": 19,
      "outputs": [
        {
          "output_type": "stream",
          "name": "stdout",
          "text": [
            "Simulated Data 2 (first 10 values):\n",
            "[41.25117263 51.71340202 55.76517901 48.73781982 54.90660393 52.57109421\n",
            " 51.10589835 44.64978335 49.05252085 51.27500722]\n",
            "\n",
            "Dataset 2 size: 1000\n",
            "------------------------------\n",
            "Standard deviation of simulated_data_2 (Population): 5.2292135970835\n",
            "Standard deviation of simulated_data (Population): 9.787262077473542\n",
            "------------------------------\n",
            "Comparison of Standard Deviations:\n",
            "Standard Deviation of Dataset 1: 9.787262077473542\n",
            "Standard Deviation of Dataset 2: 5.2292135970835\n",
            "Dataset 1 has a larger standard deviation, indicating its data points are more spread out from the mean compared to Dataset 2.\n"
          ]
        }
      ]
    },
    {
      "cell_type": "code",
      "source": [
        "#20 Write a Python program to visualize covariance using a heatmap?\n",
        "import numpy as np\n",
        "import pandas as pd\n",
        "import matplotlib.pyplot as plt\n",
        "import seaborn as sns\n",
        "\n",
        "# 1. Generate or load data\n",
        "# For demo, generate random data: 5 features, 100 samples\n",
        "np.random.seed(0)\n",
        "data = np.random.randn(100, 5)\n",
        "df = pd.DataFrame(data, columns=['A', 'B', 'C', 'D', 'E'])\n",
        "\n",
        "# 2. Compute covariance matrix\n",
        "cov = df.cov()\n",
        "print(\"Covariance matrix:\\n\", cov)\n",
        "\n",
        "# 3. Plot the covariance heatmap\n",
        "plt.figure(figsize=(8, 6))\n",
        "sns.heatmap(cov, annot=True, fmt=\".2f\", cmap='coolwarm',\n",
        "            linewidths=0.5, cbar_kws={\"shrink\": .8})\n",
        "plt.title('Covariance Matrix Heatmap', fontsize=14)\n",
        "plt.show()"
      ],
      "metadata": {
        "colab": {
          "base_uri": "https://localhost:8080/",
          "height": 667
        },
        "id": "A9J6CaCjlYP6",
        "outputId": "d20c6b91-8b95-41c1-f4aa-b05c92dff6b9"
      },
      "execution_count": 20,
      "outputs": [
        {
          "output_type": "stream",
          "name": "stdout",
          "text": [
            "Covariance matrix:\n",
            "           A         B         C         D         E\n",
            "A  1.027410 -0.050905 -0.100628  0.066741 -0.095793\n",
            "B -0.050905  0.924384 -0.101639  0.058643  0.131669\n",
            "C -0.100628 -0.101639  1.012165  0.009095  0.047282\n",
            "D  0.066741  0.058643  0.009095  1.080721  0.121844\n",
            "E -0.095793  0.131669  0.047282  0.121844  0.945595\n"
          ]
        },
        {
          "output_type": "display_data",
          "data": {
            "text/plain": [
              "<Figure size 800x600 with 2 Axes>"
            ],
            "image/png": "[encoded data removed]"
          },
          "metadata": {}
        }
      ]
    },
    {
      "cell_type": "code",
      "metadata": {
        "colab": {
          "base_uri": "https://localhost:8080/",
          "height": 805
        },
        "id": "802e3fd7",
        "outputId": "207f3221-08e6-4d57-9c13-f94b0d587850"
      },
      "source": [
        "#21 Use seaborn to create a correlation matrix for a dataset\n",
        "import pandas as pd\n",
        "import seaborn as sns\n",
        "import matplotlib.pyplot as plt\n",
        "import numpy as np\n",
        "\n",
        "# --- Create a sample dataset ---\n",
        "# Let's create a dataset with some correlated variables\n",
        "np.random.seed(42)\n",
        "data = {\n",
        "    'Feature_1': np.random.rand(100),\n",
        "    'Feature_2': np.random.rand(100) * 2 + 5, # Feature_2 is somewhat correlated with Feature_1\n",
        "    'Feature_3': np.random.rand(100) * -1 + 10, # Feature_3 is somewhat negatively correlated\n",
        "    'Feature_4': np.random.randn(100) # Feature_4 is random and less correlated\n",
        "}\n",
        "df_corr = pd.DataFrame(data)\n",
        "\n",
        "print(\"Sample Data (first 5 rows):\")\n",
        "print(df_corr.head())\n",
        "print(\"-\" * 30)\n",
        "\n",
        "# --- Calculate the correlation matrix ---\n",
        "correlation_matrix = df_corr.corr()\n",
        "\n",
        "print(\"Correlation Matrix:\")\n",
        "print(correlation_matrix)\n",
        "print(\"-\" * 30)\n",
        "\n",
        "# --- Visualize the correlation matrix using a heatmap ---\n",
        "plt.figure(figsize=(8, 6))\n",
        "sns.heatmap(correlation_matrix, annot=True, cmap='coolwarm', fmt=\".2f\", linewidths=.5)\n",
        "plt.title('Correlation Matrix Heatmap')\n",
        "plt.show()"
      ],
      "execution_count": 21,
      "outputs": [
        {
          "output_type": "stream",
          "name": "stdout",
          "text": [
            "Sample Data (first 5 rows):\n",
            "   Feature_1  Feature_2  Feature_3  Feature_4\n",
            "0   0.374540   5.062858   9.357968   0.045572\n",
            "1   0.950714   6.272821   9.915860  -0.651600\n",
            "2   0.731994   5.628712   9.838371   2.143944\n",
            "3   0.598658   6.017141   9.101446   0.633919\n",
            "4   0.156019   6.815133   9.393571  -2.025143\n",
            "------------------------------\n",
            "Correlation Matrix:\n",
            "           Feature_1  Feature_2  Feature_3  Feature_4\n",
            "Feature_1   1.000000  -0.034033   0.037654   0.120267\n",
            "Feature_2  -0.034033   1.000000   0.146354   0.043590\n",
            "Feature_3   0.037654   0.146354   1.000000  -0.084618\n",
            "Feature_4   0.120267   0.043590  -0.084618   1.000000\n",
            "------------------------------\n"
          ]
        },
        {
          "output_type": "display_data",
          "data": {
            "text/plain": [
              "<Figure size 800x600 with 2 Axes>"
            ],
            "image/png": "[encoded data removed]"
          },
          "metadata": {}
        }
      ]
    },
    {
      "cell_type": "code",
      "source": [
        "#22 Generate a dataset and implement both variance and standard deviation computations?\n",
        "import numpy as np\n",
        "\n",
        "# Define your dataset\n",
        "data = [10, 12, 15, 11, 13, 16, 14, 18, 17]\n",
        "\n",
        "# --- Calculating Variance ---\n",
        "\n",
        "# Calculate Population Variance\n",
        "# np.var() with default ddof=0 calculates population variance\n",
        "population_variance = np.var(data)\n",
        "print(f\"Population Variance: {population_variance}\")\n",
        "\n",
        "# Calculate Sample Variance\n",
        "# np.var() with ddof=1 calculates sample variance (uses n-1 in the denominator)\n",
        "sample_variance = np.var(data, ddof=1)\n",
        "print(f\"Sample Variance: {sample_variance}\")\n",
        "\n",
        "print(\"-\" * 20) # Separator for clarity\n",
        "\n",
        "# --- Calculating Standard Deviation ---\n",
        "\n",
        "# Calculate Population Standard Deviation\n",
        "# np.std() with default ddof=0 calculates population standard deviation\n",
        "population_std_dev = np.std(data)\n",
        "print(f\"Population Standard Deviation: {population_std_dev}\")\n",
        "\n",
        "# Calculate Sample Standard Deviation\n",
        "# np.std() with ddof=1 calculates sample standard deviation (uses n-1 in the denominator)\n",
        "sample_std_dev = np.std(data, ddof=1)\n",
        "print(f\"Sample Standard Deviation: {sample_std_dev}\")"
      ],
      "metadata": {
        "colab": {
          "base_uri": "https://localhost:8080/"
        },
        "id": "7p6LKDsUls7T",
        "outputId": "9aa946ae-8e0a-47f8-9ede-8eefe4427e54"
      },
      "execution_count": 22,
      "outputs": [
        {
          "output_type": "stream",
          "name": "stdout",
          "text": [
            "Population Variance: 6.666666666666667\n",
            "Sample Variance: 7.5\n",
            "--------------------\n",
            "Population Standard Deviation: 2.581988897471611\n",
            "Sample Standard Deviation: 2.7386127875258306\n"
          ]
        }
      ]
    },
    {
      "cell_type": "code",
      "metadata": {
        "colab": {
          "base_uri": "https://localhost:8080/",
          "height": 688
        },
        "id": "f7ef5efb",
        "outputId": "3d1afa63-c597-45d1-81a0-4ad9f8533ca3"
      },
      "source": [
        "#23 Visualize skewness and kurtosis using Python libraries like matplotlib or seaborn\n",
        "import numpy as np\n",
        "import matplotlib.pyplot as plt\n",
        "import seaborn as sns\n",
        "from scipy.stats import skew, kurtosis # To calculate the values as well\n",
        "\n",
        "# --- Generate a dataset to visualize ---\n",
        "# Let's generate a dataset that is somewhat skewed and has some kurtosis\n",
        "\n",
        "np.random.seed(42) # for reproducibility\n",
        "# A combination of distributions can help create interesting shapes\n",
        "data_to_visualize = np.concatenate([np.random.normal(loc=30, scale=10, size=700),\n",
        "                                    np.random.normal(loc=70, scale=5, size=300)])\n",
        "\n",
        "\n",
        "# --- Plot a histogram ---\n",
        "plt.figure(figsize=(10, 6))\n",
        "sns.histplot(data_to_visualize, bins=50, kde=True, color='skyblue', edgecolor='black')\n",
        "\n",
        "# Add titles and labels\n",
        "plt.title('Histogram to Visualize Skewness and Kurtosis')\n",
        "plt.xlabel('Value')\n",
        "plt.ylabel('Frequency')\n",
        "\n",
        "# Show the plot\n",
        "plt.grid(axis='y', alpha=0.5)\n",
        "plt.show()\n",
        "\n",
        "# --- Calculate and print skewness and kurtosis values ---\n",
        "skewness_value = skew(data_to_visualize)\n",
        "kurtosis_value = kurtosis(data_to_visualize) # Fisher's kurtosis\n",
        "\n",
        "print(f\"Calculated Skewness: {skewness_value}\")\n",
        "print(f\"Calculated Kurtosis (Fisher): {kurtosis_value}\")\n",
        "\n",
        "print(\"\\nInterpretation:\")\n",
        "print(f\"- Skewness ({skewness_value:.2f}): A value close to 0 suggests symmetry. Positive values indicate a right (positive) skew, and negative values indicate a left (negative) skew.\")\n",
        "print(f\"- Kurtosis ({kurtosis_value:.2f}): Measures the 'tailedness' and peakedness. A value near 0 (Fisher's kurtosis) indicates a similar tail heavy-ness to a normal distribution. Positive values (leptokurtic) mean heavier tails and a sharper peak. Negative values (platykurtic) mean lighter tails and a flatter peak.\")"
      ],
      "execution_count": 23,
      "outputs": [
        {
          "output_type": "display_data",
          "data": {
            "text/plain": [
              "<Figure size 1000x600 with 1 Axes>"
            ],
            "image/png": "[encoded data removed]"
          },
          "metadata": {}
        },
        {
          "output_type": "stream",
          "name": "stdout",
          "text": [
            "Calculated Skewness: 0.4405234636957506\n",
            "Calculated Kurtosis (Fisher): -1.1781140085135449\n",
            "\n",
            "Interpretation:\n",
            "- Skewness (0.44): A value close to 0 suggests symmetry. Positive values indicate a right (positive) skew, and negative values indicate a left (negative) skew.\n",
            "- Kurtosis (-1.18): Measures the 'tailedness' and peakedness. A value near 0 (Fisher's kurtosis) indicates a similar tail heavy-ness to a normal distribution. Positive values (leptokurtic) mean heavier tails and a sharper peak. Negative values (platykurtic) mean lighter tails and a flatter peak.\n"
          ]
        }
      ]
    },
    {
      "cell_type": "code",
      "source": [
        "#24 Implement the Pearson and Spearman correlation coefficients for a dataset?\n",
        "import numpy as np\n",
        "\n",
        "def pearson_corr(x, y):\n",
        "    x, y = np.asarray(x), np.asarray(y)\n",
        "    xm, ym = x.mean(), y.mean()\n",
        "    cov = ((x - xm) * (y - ym)).sum()\n",
        "    std = np.sqrt(((x - xm)**2).sum() * ((y - ym)**2).sum())\n",
        "    return cov / std\n",
        "\n",
        "# Example usage\n",
        "x = [1, 2, 3, 4, 5]\n",
        "y = [2, 4, 5, 4, 5]\n",
        "print(pearson_corr(x, y))\n",
        "\n",
        "from scipy.stats import pearsonr\n",
        "\n",
        "r, pval = pearsonr(x, y)\n",
        "print(\"Pearson r =\", r, \", p-value =\", pval)\n",
        "\n",
        "import pandas as pd\n",
        "\n",
        "df = pd.DataFrame({'x': x, 'y': y})\n",
        "print(df.corr(method='pearson'))\n",
        "\n"
      ],
      "metadata": {
        "colab": {
          "base_uri": "https://localhost:8080/"
        },
        "id": "Uxcj4OJimeoi",
        "outputId": "a677f9d5-853e-4864-eb87-826efbd98c44"
      },
      "execution_count": 26,
      "outputs": [
        {
          "output_type": "stream",
          "name": "stdout",
          "text": [
            "0.7745966692414834\n",
            "Pearson r = 0.7745966692414834 , p-value = 0.1240270626575546\n",
            "          x         y\n",
            "x  1.000000  0.774597\n",
            "y  0.774597  1.000000\n"
          ]
        }
      ]
    }
  ]
}